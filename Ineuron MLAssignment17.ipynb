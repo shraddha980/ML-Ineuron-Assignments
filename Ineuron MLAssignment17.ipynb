{
 "cells": [
  {
   "cell_type": "markdown",
   "id": "1d66ab25",
   "metadata": {},
   "source": [
    "1. Describe two major issues with regression analysis."
   ]
  },
  {
   "cell_type": "markdown",
   "id": "4eba0145",
   "metadata": {},
   "source": [
    "Nonconstant variance and weighted least squares\n",
    "Autocorrelation and time series methods\n",
    "Multicollinearity, which exists when two or more of the predictors in a regression model are moderately or highly correlated with one another.\n",
    "Overfitting\n",
    "Excluding important predictor variables\n",
    "Extrapolation\n",
    "Missing data\n",
    "Power and sample size"
   ]
  },
  {
   "cell_type": "markdown",
   "id": "9db70c27",
   "metadata": {},
   "source": [
    "2. How can the linear regression model's accuracy be improved?"
   ]
  },
  {
   "cell_type": "markdown",
   "id": "9e153ea5",
   "metadata": {},
   "source": [
    "A. There are several ways to increase the accuracy of a regression model, such as collecting more data, relevant feature selection, feature scaling, regularization, cross-validation, hyperparameter tuning, adjusting the learning rate, and ensemble methods like bagging, boosting, and stacking."
   ]
  },
  {
   "cell_type": "markdown",
   "id": "0fa56a4f",
   "metadata": {},
   "source": [
    "3. Using an example, describe the polynomial regression model in detail."
   ]
  },
  {
   "cell_type": "markdown",
   "id": "70e24290",
   "metadata": {},
   "source": [
    "Polynomial regression is a kind of linear regression in which the relationship shared between the dependent and independent variables Y and X is modeled as the nth degree of the polynomial. This is done to look for the best way of drawing a line using data points."
   ]
  },
  {
   "cell_type": "markdown",
   "id": "fe5a3539",
   "metadata": {},
   "source": [
    "4. Provide a detailed explanation of logistic regression."
   ]
  },
  {
   "cell_type": "markdown",
   "id": "42ddd878",
   "metadata": {},
   "source": [
    "Logistic regression is a data analysis technique that uses mathematics to find the relationships between two data factors. It then uses this relationship to predict the value of one of those factors based on the other. The prediction usually has a finite number of outcomes, like yes or no."
   ]
  },
  {
   "cell_type": "markdown",
   "id": "df1e5efc",
   "metadata": {},
   "source": [
    "5.Go through the details of maximum likelihood estimation"
   ]
  },
  {
   "cell_type": "markdown",
   "id": "340eeb75",
   "metadata": {},
   "source": [
    "In statistics, maximum likelihood estimation (MLE) is a method of estimating the parameters of an assumed probability distribution, given some observed data. This is achieved by maximizing a likelihood function so that, under the assumed statistical model, the observed data is most probable."
   ]
  },
  {
   "cell_type": "code",
   "execution_count": null,
   "id": "daa3c84f",
   "metadata": {},
   "outputs": [],
   "source": []
  }
 ],
 "metadata": {
  "kernelspec": {
   "display_name": "Python 3 (ipykernel)",
   "language": "python",
   "name": "python3"
  },
  "language_info": {
   "codemirror_mode": {
    "name": "ipython",
    "version": 3
   },
   "file_extension": ".py",
   "mimetype": "text/x-python",
   "name": "python",
   "nbconvert_exporter": "python",
   "pygments_lexer": "ipython3",
   "version": "3.10.9"
  }
 },
 "nbformat": 4,
 "nbformat_minor": 5
}
