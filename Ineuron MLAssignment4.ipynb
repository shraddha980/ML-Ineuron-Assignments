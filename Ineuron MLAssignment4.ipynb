{
 "cells": [
  {
   "cell_type": "markdown",
   "id": "0fa745f5",
   "metadata": {},
   "source": [
    "1. What are the key tasks involved in getting ready to work with machine learning modeling?"
   ]
  },
  {
   "cell_type": "markdown",
   "id": "0aa2cf57",
   "metadata": {},
   "source": [
    "The task of imparting intelligence to machines seems daunting and impossible. But it is easy. It can be broken down into five significant steps :\n",
    "\n",
    "Define the problem\n",
    "Build the dataset\n",
    "Train the model\n",
    "Evaluate the model\n",
    "Inference(Implementing the model)\n",
    "\n",
    ". Define the problem\n",
    "The first step in the machine learning process is defining the problem. When approaching any problem through machine learning, it is always necessary to be specific about the area you will focus on.\n",
    "\n",
    "For example, if you want to analyze the process to increase sales. You cant take the entire thing as your problem. You are specific such as \"Does adding a $1.00 charge for a special add-on increase the sales of that product?\". When you define the problem in such a way, it will be easy for you to choose the machine learning task and the nature of the data needed to build the model.\n",
    "\n",
    "What is a Machine Learning Task?\n",
    "\n",
    "A machine learning task is a prediction or inference produced in response to a problem or issue and the currently available data. For instance, the clustering task groups data based on similarity, whereas the classification task allocates data to categories.\n",
    "\n",
    "In common, there are three major machine learning tasks:\n",
    "\n",
    "Supervised Learning\n",
    "Unsupervised Learning\n",
    "Reinforcement Learning\n",
    "\n",
    "Supervised tasks\n",
    "\n",
    "If you are using labeled data, the task is being supervised. The data that already has the answers, or labels, is referred to as being labeled. Data in this situation can be categorized or continuous. Regression, categorical, or other supervised learning methods can solve these problems.\n",
    "\n",
    "Unsupervised tasks\n",
    "\n",
    "If you use unlabeled data for a task, it is deemed unsupervised. This means that while the model is being trained, you do not need to give it any labels or solutions. We can use clustering algorithms to classify the data for these issues by the hidden patterns deduced from the data.\n",
    "\n",
    "Reinforcement tasks\n",
    "\n",
    "An agent is trained to accomplish a goal via reinforcement learning (RL) based on the feedback it receives from its interactions with the environment. For each activity it performs, it gains a specific number as compensation. Higher numbers are rewarded for actions that aid the agent in achieving its objective. Unhelpful behavior yields a meager or no reward.\n",
    "\n",
    "2. Build a Dataset\n",
    "Building a dataset that can be utilized to address your machine learning-based challenge is the following step in the machine learning process. Understanding the necessary data enables you to choose superior models and algorithms, resulting in the development of more efficient solutions. Working with information is perhaps the most overlooked — yet most important — step of the machine learning process.\n",
    "\n",
    "Data collection\n",
    "\n",
    "Gathering data for your project can be as simple as running the appropriate SQL queries or as complex as developing custom web scraper applications. You may even need to run a model on your data to obtain the required labels.\n",
    "\n",
    "Data inspection\n",
    "\n",
    "The most crucial component that will eventually influence how well you anticipate your model to perform is the quality of your data. As you inspect your data, look for:\n",
    "\n",
    "Outliers\n",
    "Missing or incomplete values\n",
    "Data that needs to be transformed or preprocessed\n",
    "So it's in the correct format to be used by your model\n",
    "\n",
    "Summary statistics\n",
    "\n",
    "A subset of descriptive statistics called summary statistics gives an overview of the information about the sample data. It is the goal of summary statistics to summarize statistical data. This shows that summary statistics can be effectively used to quickly grasp the essence of the data. Statistics typically deals with the quantitative or visual display of information.\n",
    "\n",
    "Data visualization\n",
    "\n",
    "To help people comprehend and make sense of massive volumes of data, data visualization is a technique that uses a variety of static and dynamic visualizations within a given context. The data is sometimes presented in a story format to visualize patterns, trends, and connections that could otherwise go missing.\n",
    "\n",
    "3. Model Training\n",
    "After we prepare the data, the next step of our process is to do the model training using the data we have prepared. We will split the data into two major categories as the initial step.\n",
    "\n",
    "Splitting your dataset gives you two sets of data:\n",
    "\n",
    "Training dataset: The data on which the model will be trained. Most of your data will be here. Many developers estimate about 80%.\n",
    "Test dataset: The data withheld from the model during training is used to test how well your model will generalize to new data.\n",
    "\n",
    "Pick a model or some models using a method known as model selection. Even seasoned machine learning practitioners may experiment with many different models while using machine learning to solve problems because the number of recognized models continually expands. Hyperparameters are model settings that are left unchanged throughout training but may impact how quickly or accurately the model learns, such as the number of clusters it should be able to recognize.\n",
    "\n",
    "The end-to-end training process is\n",
    "\n",
    "Feed the training data into the model.\n",
    "Compute the loss function on the results.\n",
    "Update the model parameters in a direction that reduces loss.\n",
    "You continue to cycle through these steps until you reach a predefined stop condition. This might be based on a training time, the number of training cycles, or an even more intelligent or application-aware mechanism.\n",
    "\n",
    "4. Model Evaluation\n",
    "You can assess how well your model functions once you have gathered your data, trained a model, and then used it. The parameters employed for review are probably quite particular to your identified issue. You will be able to investigate a wide range of indicators that can help you evaluate effectively as your knowledge of machine learning increases. There are many evaluation matrices on which we can decide the model's performance. Those are such as\n",
    "\n",
    "Accuracy\n",
    "Specificity\n",
    "Recall or Sensitivity\n",
    "F1 Score\n",
    "Precision\n",
    "5. Model Inference\n",
    "You are prepared to make predictions about problems in the real world using data that has not yet been observed in the field once you have trained your model, assessed its efficacy, and are satisfied with the results. This procedure is frequently referred to as inference in machine learning. Using a trained model to infer conclusions from current data is known as model inference. The model inference is merely the processing of omitted data using the trained model to create a result, albeit the results may be monitored for future optimization. Even after your model has been deployed, you keep an eye on it to ensure it is generating the outcomes you are looking for. You might need to reexamine the data, adjust a few settings in your model training procedure, or switch the trained model type."
   ]
  },
  {
   "cell_type": "markdown",
   "id": "15f13b22",
   "metadata": {},
   "source": [
    "2. What are the different forms of data used in machine learning? Give a specific example for each of them."
   ]
  },
  {
   "cell_type": "markdown",
   "id": "d3ab1f93",
   "metadata": {},
   "source": [
    "Most data can be categorized into 4 basic types from a Machine Learning perspective: numerical data, categorical data, time-series data, and text.\n",
    "\n",
    "Nominal data.\n",
    "Ordinal data.\n",
    "Discrete data.\n",
    "Continuous data.\n",
    "There are generally four types of data that machine learning algorithms can use:\n",
    "\n",
    "Numeric data: This type of data consists of numbers and can include continuous values (such as prices or temperatures) or discrete values (such as counts or rankings). Numeric data can be used as input or output in machine learning algorithms\n",
    "\n",
    "Categorical data: This type of data consists of categories or labels, such as names, types, or categories. Categorical data can be used as input or output in machine learning algorithms, but it may need to be converted into a numerical form in order to be used by certain algorithms.\n",
    "\n",
    "Time series data: This type of data consists of measurements taken at regular intervals over a period of time. Time series data is often used in machine learning algorithms for tasks such as forecasting or trend analysis.\n",
    "\n",
    "Text data: This type of data consists of written or spoken words and can include things like emails, social media posts, or customer reviews. Text data is often used in machine learning algorithms for tasks such as natural language processing or sentiment analysis.\n",
    "\n",
    "It’s important to note that these are general categories of data and that different machine learning algorithms may be suited to different types of data or may be able to handle multiple types of data."
   ]
  },
  {
   "cell_type": "markdown",
   "id": "7f75df31",
   "metadata": {},
   "source": [
    "3. Distinguish:\n",
    "1. Numeric vs. categorical attributes\n",
    "2. Feature selection vs. dimensionality reduction"
   ]
  },
  {
   "cell_type": "markdown",
   "id": "80022b75",
   "metadata": {},
   "source": [
    "A categorical variable is a variable with a set number of groups (gender, colors of the rainbow, brands of cereal), while a numeric variable is generally something that can be measured (height, weight, miles per hour).\n",
    "\n",
    "Feature Selection: Selects a subset of relevant features while keeping the original feature space intact. The focus is on identifying the most informative features for modelling. Dimensionality Reduction: Projects the data onto a lower-dimensional space by transforming the feature space"
   ]
  },
  {
   "cell_type": "markdown",
   "id": "a9681d79",
   "metadata": {},
   "source": [
    "4. Make quick notes on any two of the following:\n",
    "\n",
    "> The histogram  \n",
    "\n",
    "> Use a scatter plot\n",
    "\n",
    "> PCA (Personal Computer Aid)\n"
   ]
  },
  {
   "cell_type": "markdown",
   "id": "9a4e6b8c",
   "metadata": {},
   "source": [
    "A histogram is a graphical representation of data points organized into user-specified ranges. Similar in appearance to a bar graph, the histogram condenses a data series into an easily interpreted visual by taking many data points and grouping them into logical ranges or bins.\n",
    "\n",
    "KEY TAKEAWAYS\n",
    "A histogram is a bar graph-like representation of data that buckets a range of classes into columns along the horizontal x-axis.\n",
    "The vertical y-axis represents the number count or percentage of occurrences in the data for each column\n",
    "Columns can be used to visualize patterns of data distributions.\n",
    "In trading, the MACD histogram is used by technical analysts to indicate changes in momentum.\n",
    "The MACD histogram columns can give earlier buy and sell signals than the accompanying MACD and signal lines.\n",
    "\n",
    "Scatter plots are the graphs that present the relationship between two variables in a data-set. It represents data points on a two-dimensional plane or on a Cartesian system. The independent variable or attribute is plotted on the X-axis, while the dependent variable is plotted on the Y-axis."
   ]
  },
  {
   "cell_type": "markdown",
   "id": "2c860e8a",
   "metadata": {},
   "source": [
    "5. Why is it necessary to investigate data? Is there a discrepancy in how qualitative and quantitative data are explored?"
   ]
  },
  {
   "cell_type": "markdown",
   "id": "b7380007",
   "metadata": {},
   "source": [
    "Quantitative data is numbers-based, countable, or measurable. Qualitative data is interpretation-based, descriptive, and relating to language. Quantitative data tells us how many, how much, or how often in calculations. Qualitative data can help us to understand why, how, or what happened behind certain behaviors."
   ]
  },
  {
   "cell_type": "markdown",
   "id": "3b32bd8f",
   "metadata": {},
   "source": [
    "6. What are the various histogram shapes? What exactly are ‘bins'?"
   ]
  },
  {
   "cell_type": "markdown",
   "id": "535e1c80",
   "metadata": {},
   "source": [
    "A histogram is a graphical representation of data points organized into user-specified ranges. Similar in appearance to a bar graph, the histogram condenses a data series into an easily interpreted visual by taking many data points and grouping them into logical ranges or bins.\n",
    "\n",
    "KEY TAKEAWAYS A histogram is a bar graph-like representation of data that buckets a range of classes into columns along the horizontal x-axis. The vertical y-axis represents the number count or percentage of occurrences in the data for each column Columns can be used to visualize patterns of data distributions. In trading, the MACD histogram is used by technical analysts to indicate changes in momentum. The MACD histogram columns can give earlier buy and sell signals than the accompanying MACD and signal lines."
   ]
  },
  {
   "cell_type": "markdown",
   "id": "c86c5043",
   "metadata": {},
   "source": [
    "7. How do we deal with data outliers?"
   ]
  },
  {
   "cell_type": "markdown",
   "id": "b7aa788c",
   "metadata": {},
   "source": [
    "An outlier is an observation that lies an abnormal distance from other values in a random sample from a population. In a sense, this definition leaves it up to the analyst (or a consensus process) to decide what will be considered abnormal."
   ]
  },
  {
   "cell_type": "markdown",
   "id": "63c19396",
   "metadata": {},
   "source": [
    "8. What are the various central inclination measures? Why does mean vary too much from median in certain data sets?"
   ]
  },
  {
   "cell_type": "markdown",
   "id": "708f929a",
   "metadata": {},
   "source": [
    "There are three main measures of central tendency: mode. median. mean."
   ]
  },
  {
   "cell_type": "markdown",
   "id": "b8cca20a",
   "metadata": {},
   "source": [
    "9. Describe how a scatter plot can be used to investigate bivariate relationships. Is it possible to find outliers using a scatter plot?"
   ]
  },
  {
   "cell_type": "markdown",
   "id": "61c48b55",
   "metadata": {},
   "source": [
    "A scatter plot is the graphic representation of the relationship between the two variables coming from a bivariate data set. Think of them as the graphic representation of two data sets which have been put into place by dedicating each axis in the plot to a different variable. \n",
    "\n",
    "Yes, it is possible to find out outliers using a scatter plot"
   ]
  },
  {
   "cell_type": "markdown",
   "id": "e836c03f",
   "metadata": {},
   "source": [
    "10. Describe how cross-tabs can be used to figure out how two variables are related."
   ]
  },
  {
   "cell_type": "markdown",
   "id": "6a28368c",
   "metadata": {},
   "source": [
    "Cross tabulation is a method to quantitatively analyze the relationship between multiple variables. Also known as contingency tables or cross tabs, cross tabulation groups variables to understand the correlation between different variables. It also shows how correlations change from one variable grouping to another."
   ]
  },
  {
   "cell_type": "code",
   "execution_count": null,
   "id": "954baa0f",
   "metadata": {},
   "outputs": [],
   "source": []
  }
 ],
 "metadata": {
  "kernelspec": {
   "display_name": "Python 3 (ipykernel)",
   "language": "python",
   "name": "python3"
  },
  "language_info": {
   "codemirror_mode": {
    "name": "ipython",
    "version": 3
   },
   "file_extension": ".py",
   "mimetype": "text/x-python",
   "name": "python",
   "nbconvert_exporter": "python",
   "pygments_lexer": "ipython3",
   "version": "3.10.9"
  }
 },
 "nbformat": 4,
 "nbformat_minor": 5
}
