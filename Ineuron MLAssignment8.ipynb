{
 "cells": [
  {
   "cell_type": "markdown",
   "id": "a060ee21",
   "metadata": {},
   "source": [
    "1. What exactly is a feature? Give an example to illustrate your point."
   ]
  },
  {
   "cell_type": "markdown",
   "id": "bec27973",
   "metadata": {},
   "source": [
    "In machine learning, a feature is data that's used as the input for ML models to make predictions. Raw data is rarely in a format that is consumable by an ML model, so it needs to be transformed into features. This process is called feature engineering.Examples of numerical features include age, height, weight, and income. Numerical features can be used in machine learning algorithms directly. Categorical features are discrete values that can be grouped into categories. Examples of categorical features include gender, color, and zip code."
   ]
  },
  {
   "cell_type": "markdown",
   "id": "b3e3e8e5",
   "metadata": {},
   "source": [
    "2. Describe the feature selection wrapper approach. State the advantages and disadvantages of this approach?"
   ]
  },
  {
   "cell_type": "markdown",
   "id": "2a2a8f2b",
   "metadata": {},
   "source": [
    "In wrapper methods, the feature selection process is based on a specific machine learning algorithm that we are trying to fit on a given dataset. It follows a greedy search approach by evaluating all the possible combinations of features against the evaluation criterion."
   ]
  },
  {
   "cell_type": "markdown",
   "id": "13872f07",
   "metadata": {},
   "source": [
    "3. When is a feature considered irrelevant? What can be said to quantify it?"
   ]
  },
  {
   "cell_type": "markdown",
   "id": "edf01e2f",
   "metadata": {},
   "source": [
    "One general definition for relevance is that a feature can be regarded as irrelevant if it is conditionally independent of the class labels or it does not influence the class labels; in these cases, it can be discarded.In the table above, each feature contains either quantitative or qualitative information. Quantitative data is numerical. For example, the amount of rainfall or the temperature.  Qualitative data is discrete, with a finite number of well-known values, like weather_description in the above table.Sometimes you transform quantitative data into qualitative data so that it is easier for machine learning to find patterns in the data. For example, you might decide that the rainfall and temperature feature values are sparse and you don’t have enough training data, so you transform them into categorical variables. For example, your training examples may have different values for the temperature and rainfall, and it becomes more difficult for your model to learn patterns in your data. However, if you transform rainfall into categories - [dry, damp, wet, torrential], your model can more easily learn to predict whether the amount of rainfall will be in one of those categories"
   ]
  },
  {
   "cell_type": "markdown",
   "id": "c6b161ab",
   "metadata": {},
   "source": [
    "4. What are the various distance measurements used to determine feature similarity?"
   ]
  },
  {
   "cell_type": "markdown",
   "id": "da554ca7",
   "metadata": {},
   "source": [
    "Some of the methods for similarity measures between two data points include Euclidean distance, Manhattan distance, Minkowski distance, and Chebyshev distance."
   ]
  },
  {
   "cell_type": "markdown",
   "id": "4d6f8edd",
   "metadata": {},
   "source": [
    "5. Distinguish between feature transformation and feature selection."
   ]
  },
  {
   "cell_type": "markdown",
   "id": "ac4d8cd2",
   "metadata": {},
   "source": [
    "The key difference between feature selection and extraction is that feature selection keeps a subset of the original features while feature extraction algorithms transform the data onto a new feature space.Feature engineering focuses on creating new features or transforming existing ones to make them more useful to the algorithm, while feature selection focuses on selecting the most informative subset of features from the dataset."
   ]
  },
  {
   "cell_type": "code",
   "execution_count": null,
   "id": "20bebc61",
   "metadata": {},
   "outputs": [],
   "source": []
  }
 ],
 "metadata": {
  "kernelspec": {
   "display_name": "Python 3 (ipykernel)",
   "language": "python",
   "name": "python3"
  },
  "language_info": {
   "codemirror_mode": {
    "name": "ipython",
    "version": 3
   },
   "file_extension": ".py",
   "mimetype": "text/x-python",
   "name": "python",
   "nbconvert_exporter": "python",
   "pygments_lexer": "ipython3",
   "version": "3.10.9"
  }
 },
 "nbformat": 4,
 "nbformat_minor": 5
}
