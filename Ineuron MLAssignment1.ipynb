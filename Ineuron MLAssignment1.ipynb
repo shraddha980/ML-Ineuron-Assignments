{
 "cells": [
  {
   "cell_type": "markdown",
   "id": "77b8b38c",
   "metadata": {},
   "source": [
    "1. What does one mean by the term \"machine learning\"?"
   ]
  },
  {
   "cell_type": "markdown",
   "id": "fea0ef63",
   "metadata": {},
   "source": [
    "Machine learning (ML) inference is the process of running live data points into a machine learning algorithm (or “ML model”) to calculate an output such as a single numerical score. This process is also referred to as “operationalizing an ML model” or “putting an ML model into production.” When an ML model is running in production, it is often then described as artificial intelligence (AI) since it is performing functions similar to human thinking and analysis. Machine learning inference basically entails deploying a software application into a production environment, as the ML model is typically just software code that implements a mathematical algorithm. That algorithm makes calculations based on the characteristics of the data, known as “features” in the ML vernacular."
   ]
  },
  {
   "cell_type": "markdown",
   "id": "2a300307",
   "metadata": {},
   "source": [
    "2.Can you think of 4 distinct types of issues where it shines?"
   ]
  },
  {
   "cell_type": "markdown",
   "id": "c06f7c22",
   "metadata": {},
   "source": [
    "1. Inadequate Training Data\n",
    "\n",
    "The backbone of any ML algorithm is the data it is trained on. The challenge arises when there is a shortage of both quality and quantity in the training dataset. Noisy, incorrect, or unclean data can significantly impact the effectiveness of ML algorithms. Addressing issues such as noisy data, inaccuracies, and difficulties in generalizing output data becomes paramount for accurate predictions.\n",
    "\n",
    "2. Poor Quality of Data\n",
    "\n",
    "Data quality is a recurring issue, with noisy, incomplete, and inaccurate data undermining the accuracy of classification and overall results. Achieving high-quality data is essential for the success of ML models, necessitating a meticulous approach to data preparation.\n",
    "\n",
    "3. Non-representative Training Data\n",
    "\n",
    "The representativeness of training data directly influences the generalization capability of ML models. If training data fails to cover all relevant cases, the model may produce less accurate predictions, leading to bias against specific classes or groups. Using representative data in training mitigates biases and enhances prediction accuracy.\n",
    "\n",
    "4. Overfitting and Underfitting\n",
    "\n",
    "Overfitting occurs when a model captures noise and inaccuracies from a large dataset, adversely affecting its performance. This can be mitigated by employing linear and parametric algorithms, increasing training data, or reducing model complexity. Conversely, underfitting arises from a model being too simple for the data, resulting in incomplete and inaccurate predictions. Methods to address underfitting include increasing model complexity, using better features, and adjusting constraints."
   ]
  },
  {
   "cell_type": "markdown",
   "id": "ee308104",
   "metadata": {},
   "source": [
    "3.What is a labeled training set, and how does it work?"
   ]
  },
  {
   "cell_type": "markdown",
   "id": "8a88a463",
   "metadata": {},
   "source": [
    "In machine learning, a labeled training set is a collection of input data samples, where each sample is associated with one or more output labels that serve as the ground truth for the problem at hand."
   ]
  },
  {
   "cell_type": "markdown",
   "id": "6e615dd0",
   "metadata": {},
   "source": [
    "4.What are the two most important tasks that are supervised?"
   ]
  },
  {
   "cell_type": "markdown",
   "id": "1c53b7da",
   "metadata": {},
   "source": [
    "Two most common supervised tasks are classification and regression."
   ]
  },
  {
   "cell_type": "markdown",
   "id": "c8898abb",
   "metadata": {},
   "source": [
    "5.Can you think of four examples of unsupervised tasks?"
   ]
  },
  {
   "cell_type": "markdown",
   "id": "19c99ef1",
   "metadata": {},
   "source": [
    "Four common unsupervised tasks inclused clustering, visualization, dimensionality reduction , and association rule learning"
   ]
  },
  {
   "cell_type": "markdown",
   "id": "52faef79",
   "metadata": {},
   "source": [
    "6.State the machine learning model that would be best to make a robot walk through various unfamiliar terrains?"
   ]
  },
  {
   "cell_type": "markdown",
   "id": "235ff493",
   "metadata": {},
   "source": [
    "Reinforcement Learning is the model that would be best to make a robot walk through various unfamiliar terrains"
   ]
  },
  {
   "cell_type": "markdown",
   "id": "d604d66e",
   "metadata": {},
   "source": [
    "7.Which algorithm will you use to divide your customers into different groups?"
   ]
  },
  {
   "cell_type": "markdown",
   "id": "4be17a19",
   "metadata": {},
   "source": [
    "The goal of cluster analysis in marketing is to accurately segment customers in order to achieve more effective customer marketing via personalization. A common cluster analysis method is a mathematical algorithm known as k-means cluster analysis, sometimes referred to as scientific segmentation can be used to divide customers into different groups"
   ]
  },
  {
   "cell_type": "markdown",
   "id": "11be0a5b",
   "metadata": {},
   "source": [
    "8.Will you consider the problem of spam detection to be a supervised or unsupervised learning problem?"
   ]
  },
  {
   "cell_type": "markdown",
   "id": "61ccc4a5",
   "metadata": {},
   "source": [
    "Spam detection is a supervised method problem"
   ]
  },
  {
   "cell_type": "markdown",
   "id": "871a9f26",
   "metadata": {},
   "source": [
    "9.What is the concept of an online learning system?"
   ]
  },
  {
   "cell_type": "markdown",
   "id": "ce020985",
   "metadata": {},
   "source": [
    "Online learning, also known as distance education or eLearning, refers to the delivery of educational content and instruction through the internet. It allows students to take courses and earn degrees remotely, without the need to be physically present on campus."
   ]
  },
  {
   "cell_type": "markdown",
   "id": "b0090ce3",
   "metadata": {},
   "source": [
    "10.What is out-of-core learning, and how does it differ from core learning?"
   ]
  },
  {
   "cell_type": "markdown",
   "id": "9a4c0f1a",
   "metadata": {},
   "source": [
    "Out-of-core learning algorithms operate by breaking down large datasets into smaller, manageable chunks or mini-batches. These mini-batches are then loaded into memory one at a time for processing. Once a mini-batch is processed, the results are stored, and the mini-batch is discarded from memory to make room for the next one. This process continues until all mini-batches have been processed.\n",
    "\n",
    "The key to out-of-core learning is the efficient use of memory and disk I/O operations. By only loading a small portion of the data into memory at any given time, these algorithms can process datasets that are much larger than the available memory."
   ]
  },
  {
   "cell_type": "markdown",
   "id": "d1227078",
   "metadata": {},
   "source": [
    "11.What kind of learning algorithm makes predictions using a similarity measure?"
   ]
  },
  {
   "cell_type": "markdown",
   "id": "b859c34f",
   "metadata": {},
   "source": [
    "Learning algorithm that relies on a similarity measure to make predictions is instance-based algorithm."
   ]
  },
  {
   "cell_type": "markdown",
   "id": "76bed6d0",
   "metadata": {},
   "source": [
    "12.What's the difference between a model parameter and a hyperparameter in a learning algorithm?"
   ]
  },
  {
   "cell_type": "markdown",
   "id": "498427d3",
   "metadata": {},
   "source": [
    "Parameters allow the model to learn the rules from the data while hyperparameters control how the model is training. Parameters learn their own values from data. In contrast, hyperparameters do not learn their values from data. We need to manually specify them before training the model."
   ]
  },
  {
   "cell_type": "markdown",
   "id": "5280edcb",
   "metadata": {},
   "source": [
    "13.What are the criteria that model-based learning algorithms look for? What is the most popular method they use to achieve success? What method do they use to make predictions?"
   ]
  },
  {
   "cell_type": "markdown",
   "id": "bd189838",
   "metadata": {},
   "source": [
    "Model based learning algorithm search for the optimal value of parameters in a model that will give the best results for the new instances. We often use a cost function or similar to determine what the parameter value has to be in order to minimize the function."
   ]
  },
  {
   "cell_type": "markdown",
   "id": "a4110143",
   "metadata": {},
   "source": [
    "14.Can you name four of the most important Machine Learning challenges?"
   ]
  },
  {
   "cell_type": "markdown",
   "id": "f30820df",
   "metadata": {},
   "source": [
    "Insufficient Quantity of Training Data:\n",
    "Machine Learning is not quite there yet; it takes a lot of data for most Machine Learning algorithms to work properly. Even for very simple problems you typically need thousands of examples, and for complex problems such as image or speech recognition you may need millions of examples (unless you can reuse parts of an existing model). \n",
    "\n",
    "Nonrepresentative Training Data:\n",
    "The training data should be representative of the new cases to generalize well i.e., the data we use for training should cover all the cases that occurred and that is going to occur. By using a non-representative training set, the trained model is not likely to make accurate predictions.\n",
    "\n",
    "Poor-Quality Data:\n",
    "In reality, we don’t directly start training the model, analyzing data is the most important step. But the data we collected might not be ready for training, some samples are abnormal from others having outliers or missing values for instance.\n",
    "In these cases, we can remove the outliers, or fill the missing features/values using median or mean (to fill height) or simply remove the attributes/instances with missing values, or train the model with and without these instances.\n",
    "\n",
    "Overfitting the Training Data:\n",
    "Say you visited a restaurant in a new city. You looked at the menu to order something and found that the cost or bill is too high. You might be tempted to say that ‘all the restaurants in the city are too costly and not affordable’. Overgeneralizing is something that we do very frequently, and shockingly, the frameworks can likewise fall into a similar snare and in AI, we call it overfitting.\n",
    "At the point when the model is excessively unpredictable when compared to the noisiness of the training dataset, overfitting occurs. We can avoid it by:\n",
    "Gathering more training data.\n",
    "Selecting a model with fewer features, a higher degree polynomial model is not preferred compared to the linear model.\n",
    "Fix data errors, remove the outliers, and reduce the number of instances in the training set.\n",
    "\n",
    "Underfitting the Training Data:\n",
    "Underfitting which is opposite to overfitting generally occurs when the model is too simple to understand the base structure of the data. It’s like trying to fit into undersized pants. It generally happens when we have less information to construct an exact model and when we attempt to build or develop a linear model with non-linear information.\n",
    "Main options to reduce underfitting are:\n",
    "Feature Engineering — feeding better features to the learning algorithm.\n",
    "Removing noise from the data.\n",
    "Increasing parameters and selecting a powerful model."
   ]
  },
  {
   "cell_type": "markdown",
   "id": "8f70caaf",
   "metadata": {},
   "source": [
    "15.What happens if the model performs well on the training data but fails to generalize the results to new situations? Can you think of three different options?"
   ]
  },
  {
   "cell_type": "markdown",
   "id": "11a79157",
   "metadata": {},
   "source": []
  },
  {
   "cell_type": "markdown",
   "id": "2c56291b",
   "metadata": {},
   "source": [
    "16.What exactly is a test set, and why would you need one?"
   ]
  },
  {
   "cell_type": "markdown",
   "id": "d4b2d2ac",
   "metadata": {},
   "source": [
    "A test set is a portion of a data set used in data mining to assess the likely future performance of a single prediction or classification model that has been selected from among competing models, based on its performance with the validation set."
   ]
  },
  {
   "cell_type": "markdown",
   "id": "624e0593",
   "metadata": {},
   "source": [
    "17.What is a validation set's purpose?"
   ]
  },
  {
   "cell_type": "markdown",
   "id": "14a8d186",
   "metadata": {},
   "source": [
    "The validation set is a set of data, separate from the training set, that is used to validate our model performance during training. This validation process gives information that helps us tune the model's hyperparameters and configurations accordingly."
   ]
  },
  {
   "cell_type": "markdown",
   "id": "fcf24eb0",
   "metadata": {},
   "source": [
    "18.What precisely is the train-dev kit, when will you need it, how do you put it to use?"
   ]
  },
  {
   "cell_type": "markdown",
   "id": "1c52b34a",
   "metadata": {},
   "source": [
    "The main idea of splitting the dataset into a validation set is to prevent our model from overfitting i.e., the model becomes really good at classifying the samples in the training set but cannot generalize and make accurate classifications on the data it has not seen before."
   ]
  },
  {
   "cell_type": "markdown",
   "id": "1747ccf0",
   "metadata": {},
   "source": [
    "19.What could go wrong if you use the test set to tune hyperparameters?"
   ]
  },
  {
   "cell_type": "markdown",
   "id": "6a727656",
   "metadata": {},
   "source": []
  },
  {
   "cell_type": "code",
   "execution_count": null,
   "id": "3391ae44",
   "metadata": {},
   "outputs": [],
   "source": []
  }
 ],
 "metadata": {
  "kernelspec": {
   "display_name": "Python 3 (ipykernel)",
   "language": "python",
   "name": "python3"
  },
  "language_info": {
   "codemirror_mode": {
    "name": "ipython",
    "version": 3
   },
   "file_extension": ".py",
   "mimetype": "text/x-python",
   "name": "python",
   "nbconvert_exporter": "python",
   "pygments_lexer": "ipython3",
   "version": "3.10.9"
  }
 },
 "nbformat": 4,
 "nbformat_minor": 5
}
