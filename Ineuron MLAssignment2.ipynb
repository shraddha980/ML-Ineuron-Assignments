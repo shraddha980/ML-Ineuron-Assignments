{
 "cells": [
  {
   "cell_type": "markdown",
   "id": "e0436ab2",
   "metadata": {},
   "source": [
    "1. What is the concept of human learning? Please give two examples."
   ]
  },
  {
   "cell_type": "markdown",
   "id": "e5b4e3a9",
   "metadata": {},
   "source": [
    "Learning: acquiring new, or modifying and reinforcing, existing knowledge, behavior, skills, values or preferences and may involve synthesizing different types of information. Learning is a process of progressive behaviour adaptation.Learning by association or Classical Conditioning"
   ]
  },
  {
   "cell_type": "markdown",
   "id": "6801f9cc",
   "metadata": {},
   "source": [
    "2. What different forms of human learning are there? Are there any machine learning equivalents?"
   ]
  },
  {
   "cell_type": "markdown",
   "id": "eb007856",
   "metadata": {},
   "source": [
    "4 types: Learning type 1: auditive learning (“by listening and speaking“), Learning type 2: visual learning (“through the eyes, by watching”), • Learning type 3: haptic learning (“by touching and feeling”), • Learning type 4: learning through the intellect."
   ]
  },
  {
   "cell_type": "markdown",
   "id": "58b2d140",
   "metadata": {},
   "source": [
    "3. What is machine learning, and how does it work? What are the key responsibilities of machine learning?"
   ]
  },
  {
   "cell_type": "markdown",
   "id": "b64c89ee",
   "metadata": {},
   "source": [
    "Machine learning uses two types of techniques: supervised learning, which trains a model on known input and output data so that it can predict future outputs, and unsupervised learning, which finds hidden patterns or intrinsic structures in input data.\n",
    "\n",
    "Supervised Learning\n",
    "Supervised machine learning builds a model that makes predictions based on evidence in the presence of uncertainty. A supervised learning algorithm takes a known set of input data and known responses to the data (output) and trains a model to generate reasonable predictions for the response to new data. Use supervised learning if you have known data for the output you are trying to predict.\n",
    "\n",
    "Supervised learning uses classification and regression techniques to develop machine learning models.\n",
    "\n",
    "Classification techniques predict discrete responses—for example, whether an email is genuine or spam, or whether a tumor is cancerous or benign. Classification models classify input data into categories. Typical applications include medical imaging, speech recognition, and credit scoring.\n",
    "\n",
    "Use classification if your data can be tagged, categorized, or separated into specific groups or classes. For example, applications for hand-writing recognition use classification to recognize letters and numbers. In image processing and computer vision, unsupervised pattern recognition techniques are used for object detection and image segmentation. The most common algorithms for performing classification can be found here.\n",
    "\n",
    "Regression techniques predict continuous responses—for example, hard-to-measure physical quantities such as battery state-of-charge, electricity load on the grid, or prices of financial assets. Typical applications include virtual sensing, electricity load forecasting, and algorithmic trading.\n",
    "\n",
    "Use regression techniques if you are working with a data range or if the nature of your response is a real number, such as temperature or the time until failure for a piece of equipment. The most common algorithms for performing regression can be found here.\n",
    "\n",
    "Unsupervised Learning\n",
    "Unsupervised learning finds hidden patterns or intrinsic structures in data. It is used to draw inferences from datasets consisting of input data without labeled responses.\n",
    "\n",
    "Clustering is the most common unsupervised learning technique. It is used for exploratory data analysis to find hidden patterns or groupings in data. Applications for cluster analysis include gene sequence analysis, market research, and object recognition.\n",
    "\n",
    "For example, if a cell phone company wants to optimize the locations where they build cell phone towers, they can use machine learning to estimate the number of clusters of people relying on their towers. A phone can only talk to one tower at a time, so the team uses clustering algorithms to design the best placement of cell towers to optimize signal reception for groups, or clusters, of their customers. "
   ]
  },
  {
   "cell_type": "markdown",
   "id": "2ba50d39",
   "metadata": {},
   "source": [
    "4. Define the terms \"penalty\" and \"reward\" in the context of reinforcement learning."
   ]
  },
  {
   "cell_type": "markdown",
   "id": "7f046f6f",
   "metadata": {},
   "source": [
    "Reinforcement Learning is a feedback-based Machine learning technique in which an agent learns to behave in an environment by performing the actions and seeing the results of actions. For each good action, the agent gets positive feedback, and for each bad action, the agent gets negative feedback or penalty."
   ]
  },
  {
   "cell_type": "markdown",
   "id": "f478f2d9",
   "metadata": {},
   "source": [
    "5. Explain the term \"learning as a search\"?"
   ]
  },
  {
   "cell_type": "markdown",
   "id": "daaf2137",
   "metadata": {},
   "source": [
    "The goal of this search is to find the hypothesis that best fits the training examples. By selecting a hypothesis representation, the designer of the learning algorithm implicitly defines the space of all hypotheses that the program can ever represent and therefore can ever learn."
   ]
  },
  {
   "cell_type": "markdown",
   "id": "f044b975",
   "metadata": {},
   "source": [
    "6. What are the various goals of machine learning? What is the relationship between these and human learning?"
   ]
  },
  {
   "cell_type": "markdown",
   "id": "17c4944a",
   "metadata": {},
   "source": [
    "1) To make the computers smarter, more intelligent. The more direct objective in this aspect is to develop systems (programs) for specific practical learning tasks in application domains. (2) To dev elop computational models of human learning process and perform computer simulations"
   ]
  },
  {
   "cell_type": "markdown",
   "id": "9e14954e",
   "metadata": {},
   "source": [
    "    7. Illustrate the various elements of machine learning using a real-life illustration."
   ]
  },
  {
   "cell_type": "markdown",
   "id": "95f0956c",
   "metadata": {},
   "source": [
    "There are three main elements to every machine learning algorithm, and they include: Representation: what the model looks like; how knowledge is represented. Evaluation: how good models are differentiated; how programs are evaluated. Optimization: the process for finding good models; how programs are generated."
   ]
  },
  {
   "cell_type": "markdown",
   "id": "60b66d2c",
   "metadata": {},
   "source": [
    "8. Provide an example of the abstraction method."
   ]
  },
  {
   "cell_type": "markdown",
   "id": "475cd5ec",
   "metadata": {},
   "source": [
    "Car is a great example of abstraction. You can start a car by turning the key or pressing the start button. You don't need to know how the engine is getting started, what all components your car has. The car internal implementation and complex logic is completely hidden from the user."
   ]
  },
  {
   "cell_type": "markdown",
   "id": "130a8bf6",
   "metadata": {},
   "source": [
    "9. What is the concept of generalization? What function does it play in the machine learning process?"
   ]
  },
  {
   "cell_type": "markdown",
   "id": "7d7f7235",
   "metadata": {},
   "source": [
    "Generalization refers to your model's ability to adapt properly to new, previously unseen data, drawn from the same distribution as the one used to create the model. Develop intuition about overfitting."
   ]
  },
  {
   "cell_type": "markdown",
   "id": "feed9aef",
   "metadata": {},
   "source": [
    "10. What is classification, exactly? What are the main distinctions between classification and regression?"
   ]
  },
  {
   "cell_type": "markdown",
   "id": "d0b606b4",
   "metadata": {},
   "source": [
    "Classification is the process of identifying and and grouping objects or ideas into predetermined categories. In data management, classification enables the separation and sorting of data according to set requirements for various business or personal objectives.The key distinction between Classification vs Regression algorithms is Regression algorithms are used to determine continuous values such as price, income, age, etc. and Classification algorithms are used to forecast or classify the distinct values such as Real or False, Male or Female, Spam or Not Spam, etc"
   ]
  },
  {
   "cell_type": "markdown",
   "id": "7b483956",
   "metadata": {},
   "source": [
    "11. What is regression, and how does it work? Give an example of a real-world problem that was solved using regression."
   ]
  },
  {
   "cell_type": "markdown",
   "id": "5c07787f",
   "metadata": {},
   "source": [
    "Regression is a statistical method used in finance, investing, and other disciplines that attempts to determine the strength and character of the relationship between one dependent variable (usually denoted by Y) and a series of other variables (known as independent variables).For example, it can be used to predict the relationship between reckless driving and the total number of road accidents caused by a driver, or, to use a business example, the effect on sales and spending a certain amount of money on advertising. Regression is one of the most common models of machine learning."
   ]
  },
  {
   "cell_type": "markdown",
   "id": "4826e3f3",
   "metadata": {},
   "source": [
    "12. Describe the clustering mechanism in detail."
   ]
  },
  {
   "cell_type": "markdown",
   "id": "387624e1",
   "metadata": {},
   "source": [
    "It is basically a type of unsupervised learning method. An unsupervised learning method is a method in which we draw references from datasets consisting of input data without labeled responses. Generally, it is used as a process to find meaningful structure, explanatory underlying processes, generative features, and groupings inherent in a set of examples. \n",
    "\n",
    "Clustering is the task of dividing the population or data points into a number of groups such that data points in the same groups are more similar to other data points in the same group and dissimilar to the data points in other groups. It is basically a collection of objects on the basis of similarity and dissimilarity between them. \n"
   ]
  },
  {
   "cell_type": "markdown",
   "id": "61669876",
   "metadata": {},
   "source": [
    "13. Make brief observations on two of the following topics:\n",
    "i. Machine learning algorithms are used\n",
    "ii. Studying under supervision\n",
    "iii. Studying without supervision\n",
    "iv. Reinforcement learning is a form of learning based on positive reinforcement.\n"
   ]
  },
  {
   "cell_type": "markdown",
   "id": "feb5e5ec",
   "metadata": {},
   "source": [
    "Supervised learning\n",
    "In supervised learning, the machine is taught by example. The operator provides the machine learning algorithm with a known dataset that includes desired inputs and outputs, and the algorithm must find a method to determine how to arrive at those inputs and outputs. While the operator knows the correct answers to the problem, the algorithm identifies patterns in data, learns from observations and makes predictions. The algorithm makes predictions and is corrected by the operator – and this process continues until the algorithm achieves a high level of accuracy/performance.\n",
    "\n",
    "Under the umbrella of supervised learning fall: Classification, Regression and Forecasting.\n",
    "\n",
    "Classification: In classification tasks, the machine learning program must draw a conclusion from observed values and determine to\n",
    "what category new observations belong. For example, when filtering emails as ‘spam’ or ‘not spam’, the program must look at existing observational data and filter the emails accordingly.\n",
    "Regression: In regression tasks, the machine learning program must estimate – and understand – the relationships among variables. Regression analysis focuses on one dependent variable and a series of other changing variables – making it particularly useful for prediction and forecasting.\n",
    "Forecasting: Forecasting is the process of making predictions about the future based on the past and present data, and is commonly used to analyse trends.\n",
    "\n",
    "Semi-supervised learning\n",
    "Semi-supervised learning is similar to supervised learning, but instead uses both labelled and unlabelled data. Labelled data is essentially information that has meaningful tags so that the algorithm can understand the data, whilst unlabelled data lacks that information. By using this\n",
    "combination, machine learning algorithms can learn to label unlabelled data.\n",
    "\n",
    "Unsupervised learning\n",
    "Here, the machine learning algorithm studies data to identify patterns. There is no answer key or human operator to provide instruction. Instead, the machine determines the correlations and relationships by analysing available data. In an unsupervised learning process, the machine learning algorithm is left to interpret large data sets and address that data accordingly. The algorithm tries to organise that data in some way to describe its structure. This might mean grouping the data into clusters or arranging it in a way that looks more organised.\n",
    "\n",
    "As it assesses more data, its ability to make decisions on that data gradually improves and becomes more refined.\n",
    "\n",
    "Under the umbrella of unsupervised learning, fall:\n",
    "\n",
    "Clustering: Clustering involves grouping sets of similar data (based on defined criteria). It’s useful for segmenting data into several groups and performing analysis on each data set to find patterns.\n",
    "Dimension reduction: Dimension reduction reduces the number of variables being considered to find the exact information required.\n",
    "\n",
    "Reinforcement learning\n",
    "Reinforcement learning focuses on regimented learning processes, where a machine learning algorithm is provided with a set of actions, parameters and end values. By defining the rules, the machine learning algorithm then tries to explore different options and possibilities, monitoring and evaluating each result to determine which one is optimal. Reinforcement learning teaches the machine trial and error. It learns from past experiences and begins to adapt its approach in response to the situation to achieve the best possible result."
   ]
  },
  {
   "cell_type": "code",
   "execution_count": null,
   "id": "c9ad5deb",
   "metadata": {},
   "outputs": [],
   "source": []
  }
 ],
 "metadata": {
  "kernelspec": {
   "display_name": "Python 3 (ipykernel)",
   "language": "python",
   "name": "python3"
  },
  "language_info": {
   "codemirror_mode": {
    "name": "ipython",
    "version": 3
   },
   "file_extension": ".py",
   "mimetype": "text/x-python",
   "name": "python",
   "nbconvert_exporter": "python",
   "pygments_lexer": "ipython3",
   "version": "3.10.9"
  }
 },
 "nbformat": 4,
 "nbformat_minor": 5
}
