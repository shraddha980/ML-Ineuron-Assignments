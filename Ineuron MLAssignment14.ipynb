{
 "cells": [
  {
   "cell_type": "markdown",
   "id": "0786bb56",
   "metadata": {},
   "source": [
    "1. Briefly describe the SVM model."
   ]
  },
  {
   "cell_type": "markdown",
   "id": "4acbf96d",
   "metadata": {},
   "source": [
    "A support vector machine (SVM) is a machine learning algorithm that uses supervised learning models to solve complex classification, regression, and outlier detection problems by performing optimal data transformations that determine boundaries between data points based on predefined classes, labels, or outputs. SVMs are widely adopted across disciplines such as healthcare, natural language processing, signal processing applications, and speech & image recognition fields."
   ]
  },
  {
   "cell_type": "markdown",
   "id": "73475e4e",
   "metadata": {},
   "source": [
    "2. In SVM, what is the cost of misclassification?"
   ]
  },
  {
   "cell_type": "markdown",
   "id": "49673dd0",
   "metadata": {},
   "source": [
    "In some contexts, certain kinds of errors are more costly than others. For example, it may be more costly to classify a high-risk credit applicant as low risk (one kind of error) than it is to classify a low-risk applicant as high risk (a different kind of error). Misclassification costs allow you to specify the relative importance of different kinds of prediction errors.\n",
    "\n",
    "Misclassification costs are basically weights applied to specific outcomes. These weights are factored into the model and may actually change the prediction (as a way of protecting against costly mistakes).\n",
    "\n",
    "With the exception of C5.0 models, misclassification costs are not applied when scoring a model and are not taken into account when ranking or comparing models using an Auto Classifier node, evaluation chart, or Analysis node. A model that includes costs may not produce fewer errors than one that doesn't and may not rank any higher in terms of overall accuracy, but it is likely to perform better in practical terms because it has a built-in bias in favor of less expensive errors.\n",
    "\n",
    "The cost matrix shows the cost for each possible combination of predicted category and actual category. By default, all misclassification costs are set to 1.0. To enter custom cost values, select Use misclassification costs and enter your custom values into the cost matrix.\n",
    "\n",
    "To change a misclassification cost, select the cell corresponding to the desired combination of predicted and actual values, delete the existing contents of the cell, and enter the desired cost for the cell. Costs are not automatically symmetrical. For example, if you set the cost of misclassifying A as B to be 2.0, the cost of misclassifying B as A will still have the default value of 1.0 unless you explicitly change it as well."
   ]
  },
  {
   "cell_type": "markdown",
   "id": "4fec6580",
   "metadata": {},
   "source": [
    "3. In the SVM model, define Support Vectors."
   ]
  },
  {
   "cell_type": "markdown",
   "id": "04e2a328",
   "metadata": {},
   "source": [
    "Support Vectors: These are the points that are closest to the hyperplane. A separating line will be defined with the help of these data points. Margin: it is the distance between the hyperplane and the observations closest to the hyperplane (support vectors). In SVM large margin is considered a good margin."
   ]
  },
  {
   "cell_type": "markdown",
   "id": "4ac16643",
   "metadata": {},
   "source": [
    "4. In the SVM model, define the kernel."
   ]
  },
  {
   "cell_type": "markdown",
   "id": "1360212c",
   "metadata": {},
   "source": [
    "“Kernel” is used due to a set of mathematical functions used in Support Vector Machine providing the window to manipulate the data. So, Kernel Function generally transforms the training set of data so that a non-linear decision surface is able to transform to a linear equation in a higher number of dimension spaces."
   ]
  },
  {
   "cell_type": "markdown",
   "id": "685abf3c",
   "metadata": {},
   "source": [
    "5. What are the factors that influence SVM's effectiveness?"
   ]
  },
  {
   "cell_type": "markdown",
   "id": "11612eea",
   "metadata": {},
   "source": [
    "The effectiveness of SVM depends on the selection of kernel, kernel's parameters and soft margin parameter C. . Each pair of parameters is checked using cross validation, and the parameters with best cross validation accuracy are picked."
   ]
  },
  {
   "cell_type": "code",
   "execution_count": null,
   "id": "afb8076b",
   "metadata": {},
   "outputs": [],
   "source": []
  }
 ],
 "metadata": {
  "kernelspec": {
   "display_name": "Python 3 (ipykernel)",
   "language": "python",
   "name": "python3"
  },
  "language_info": {
   "codemirror_mode": {
    "name": "ipython",
    "version": 3
   },
   "file_extension": ".py",
   "mimetype": "text/x-python",
   "name": "python",
   "nbconvert_exporter": "python",
   "pygments_lexer": "ipython3",
   "version": "3.10.9"
  }
 },
 "nbformat": 4,
 "nbformat_minor": 5
}
