{
 "cells": [
  {
   "cell_type": "markdown",
   "id": "3b104371",
   "metadata": {},
   "source": [
    "1. In the sense of machine learning, explain the \"No Free Lunch\" theorem."
   ]
  },
  {
   "cell_type": "markdown",
   "id": "9b7f7cf8",
   "metadata": {},
   "source": [
    "What does the \"no free lunch\" idea in machine learning REALLY mean? The “no free lunch” (NFL) theorem basically says no ML algorithm works best for every situation. Depending on the spread of the data, the number of data points, and other factors, certain algorithms are better or worse for a given situation"
   ]
  },
  {
   "cell_type": "markdown",
   "id": "e0164212",
   "metadata": {},
   "source": [
    "2. Describe the K-fold cross-validation mechanism in detail."
   ]
  },
  {
   "cell_type": "markdown",
   "id": "5c2800bd",
   "metadata": {},
   "source": [
    "K-fold cross-validation is a technique for evaluating predictive models. The dataset is divided into k subsets or folds. The model is trained and evaluated k times, using a different fold as the validation set each time. Performance metrics from each fold are averaged to estimate the model's generalization performance."
   ]
  },
  {
   "cell_type": "markdown",
   "id": "ffc3c6a1",
   "metadata": {},
   "source": [
    "3. Describe the bootstrap sampling method. What is the aim of it?"
   ]
  },
  {
   "cell_type": "markdown",
   "id": "ec192c73",
   "metadata": {},
   "source": [
    "Bootstrapping is a resampling procedure that uses data from one sample to generate a sampling distribution by repeatedly taking random samples from the known sample, with replacement.Bootstrapping is a statistical procedure that resamples a single dataset to create many simulated samples. This process allows you to calculate standard errors, construct confidence intervals, and perform hypothesis testing for numerous types of sample statistics."
   ]
  },
  {
   "cell_type": "markdown",
   "id": "08781ee7",
   "metadata": {},
   "source": [
    "4. What is the significance of calculating the Kappa value for a classification model? Demonstrate how to measure the Kappa value of a classification model using a sample collection of results."
   ]
  },
  {
   "cell_type": "markdown",
   "id": "d1d1ce82",
   "metadata": {},
   "source": [
    "Kappa can range from 0 to 1. A value of 0 means that there is no agreement between the raters (real-world observer vs classification model), and a value of 1 means that there is perfect agreement between the raters. In most cases, anything over 0.7 is considered to be very good agreement\n",
    "\n",
    "Kappa score = (Po – Pe) / (1 – Pe)\n",
    "\n",
    "Cohen Kappa score can also be used to assess the performance of multi-class classification model. Lets take a look at the following confusion matrix representing a image classification model (CNN model) which classifies image into three different classes such as cat, dog and monkey. "
   ]
  },
  {
   "cell_type": "markdown",
   "id": "a7c0df5e",
   "metadata": {},
   "source": [
    "5. Describe the model ensemble method."
   ]
  },
  {
   "cell_type": "markdown",
   "id": "442018d5",
   "metadata": {},
   "source": [
    "Ensemble modeling is a process where multiple diverse models are created to predict an outcome, either by using many different modeling algorithms or using different training data sets. The ensemble model then aggregates the prediction of each base model and results in once final prediction for the unseen data."
   ]
  },
  {
   "cell_type": "code",
   "execution_count": null,
   "id": "a690a484",
   "metadata": {},
   "outputs": [],
   "source": []
  }
 ],
 "metadata": {
  "kernelspec": {
   "display_name": "Python 3 (ipykernel)",
   "language": "python",
   "name": "python3"
  },
  "language_info": {
   "codemirror_mode": {
    "name": "ipython",
    "version": 3
   },
   "file_extension": ".py",
   "mimetype": "text/x-python",
   "name": "python",
   "nbconvert_exporter": "python",
   "pygments_lexer": "ipython3",
   "version": "3.10.9"
  }
 },
 "nbformat": 4,
 "nbformat_minor": 5
}
