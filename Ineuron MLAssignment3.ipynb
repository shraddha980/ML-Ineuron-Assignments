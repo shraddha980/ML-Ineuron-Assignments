{
 "cells": [
  {
   "cell_type": "markdown",
   "id": "08496ce9",
   "metadata": {},
   "source": [
    "1.Explain the term machine learning, and how does it work? Explain two machine learning applications in the business world. What are some of the ethical concerns that machine learning applications could raise?"
   ]
  },
  {
   "cell_type": "markdown",
   "id": "8779eb5e",
   "metadata": {},
   "source": [
    "Machine learning (ML) inference is the process of running live data points into a machine learning algorithm (or “ML model”) to calculate an output such as a single numerical score. This process is also referred to as “operationalizing an ML model” or “putting an ML model into production.” When an ML model is running in production, it is often then described as artificial intelligence (AI) since it is performing functions similar to human thinking and analysis. Machine learning inference basically entails deploying a software application into a production environment, as the ML model is typically just software code that implements a mathematical algorithm. That algorithm makes calculations based on the characteristics of the data, known as “features” in the ML vernacular.\n",
    "\n",
    "Machine learning uses two types of techniques: supervised learning, which trains a model on known input and output data so that it can predict future outputs, and unsupervised learning, which finds hidden patterns or intrinsic structures in input data.\n",
    "\n",
    "Supervised Learning Supervised machine learning builds a model that makes predictions based on evidence in the presence of uncertainty. A supervised learning algorithm takes a known set of input data and known responses to the data (output) and trains a model to generate reasonable predictions for the response to new data. Use supervised learning if you have known data for the output you are trying to predict.\n",
    "\n",
    "Supervised learning uses classification and regression techniques to develop machine learning models.\n",
    "\n",
    "Classification techniques predict discrete responses—for example, whether an email is genuine or spam, or whether a tumor is cancerous or benign. Classification models classify input data into categories. Typical applications include medical imaging, speech recognition, and credit scoring.\n",
    "\n",
    "Use classification if your data can be tagged, categorized, or separated into specific groups or classes. For example, applications for hand-writing recognition use classification to recognize letters and numbers. In image processing and computer vision, unsupervised pattern recognition techniques are used for object detection and image segmentation. The most common algorithms for performing classification can be found here.\n",
    "\n",
    "Regression techniques predict continuous responses—for example, hard-to-measure physical quantities such as battery state-of-charge, electricity load on the grid, or prices of financial assets. Typical applications include virtual sensing, electricity load forecasting, and algorithmic trading.\n",
    "\n",
    "Use regression techniques if you are working with a data range or if the nature of your response is a real number, such as temperature or the time until failure for a piece of equipment. The most common algorithms for performing regression can be found here.\n",
    "\n",
    "Unsupervised Learning Unsupervised learning finds hidden patterns or intrinsic structures in data. It is used to draw inferences from datasets consisting of input data without labeled responses.\n",
    "\n",
    "Clustering is the most common unsupervised learning technique. It is used for exploratory data analysis to find hidden patterns or groupings in data. Applications for cluster analysis include gene sequence analysis, market research, and object recognition.\n",
    "\n",
    "For example, if a cell phone company wants to optimize the locations where they build cell phone towers, they can use machine learning to estimate the number of clusters of people relying on their towers. A phone can only talk to one tower at a time, so the team uses clustering algorithms to design the best placement of cell towers to optimize signal reception for groups, or clusters, of their customers."
   ]
  },
  {
   "cell_type": "markdown",
   "id": "0dd3413d",
   "metadata": {},
   "source": [
    "2. Describe the process of human learning:\n",
    "> i. Under the supervision of experts\n",
    "> ii. With the assistance of experts in an indirect manner\n",
    "> iii. Self-education"
   ]
  },
  {
   "cell_type": "markdown",
   "id": "59848cdf",
   "metadata": {},
   "source": [
    "Learning does not happen in the same way or at the same time for all students. Understanding developmental stages can help instructors align instruction with student readiness. Adult learners may have needs and constraints that differ from younger learners.\n",
    "The learning process is influenced by internal factors such as the student’s level of motivation and feelings of self-efficacy, and external factors such as the classroom environment and the adults and peers with whom the learner interacts.\n",
    "Instructors can take steps to foster better learning, including:\n",
    "Creating a democratic, empathetic, and supportive learning environment\n",
    "Assisting students in becoming self-directed learners and enhancing their motivation by offering a sense of control and choice in their learning\n",
    "Acknowledging that learning can be challenging, and helping students develop the mindset and self-efficacy that will support their persistence\n",
    "Offering regular and meaningful feedback"
   ]
  },
  {
   "cell_type": "markdown",
   "id": "7bae3bcd",
   "metadata": {},
   "source": [
    "3. Provide a few examples of various types of machine learning."
   ]
  },
  {
   "cell_type": "markdown",
   "id": "afa8d426",
   "metadata": {},
   "source": [
    "Supervised Learning Supervised machine learning builds a model that makes predictions based on evidence in the presence of uncertainty. A supervised learning algorithm takes a known set of input data and known responses to the data (output) and trains a model to generate reasonable predictions for the response to new data. Use supervised learning if you have known data for the output you are trying to predict.\n",
    "\n",
    "Supervised learning uses classification and regression techniques to develop machine learning models.\n",
    "\n",
    "Classification techniques predict discrete responses—for example, whether an email is genuine or spam, or whether a tumor is cancerous or benign. Classification models classify input data into categories. Typical applications include medical imaging, speech recognition, and credit scoring.\n",
    "\n",
    "Use classification if your data can be tagged, categorized, or separated into specific groups or classes. For example, applications for hand-writing recognition use classification to recognize letters and numbers. In image processing and computer vision, unsupervised pattern recognition techniques are used for object detection and image segmentation. The most common algorithms for performing classification can be found here.\n",
    "\n",
    "Regression techniques predict continuous responses—for example, hard-to-measure physical quantities such as battery state-of-charge, electricity load on the grid, or prices of financial assets. Typical applications include virtual sensing, electricity load forecasting, and algorithmic trading.\n",
    "\n",
    "Use regression techniques if you are working with a data range or if the nature of your response is a real number, such as temperature or the time until failure for a piece of equipment. The most common algorithms for performing regression can be found here.\n",
    "\n",
    "Unsupervised Learning Unsupervised learning finds hidden patterns or intrinsic structures in data. It is used to draw inferences from datasets consisting of input data without labeled responses.\n",
    "\n",
    "Clustering is the most common unsupervised learning technique. It is used for exploratory data analysis to find hidden patterns or groupings in data. Applications for cluster analysis include gene sequence analysis, market research, and object recognition.\n",
    "\n",
    "For example, if a cell phone company wants to optimize the locations where they build cell phone towers, they can use machine learning to estimate the number of clusters of people relying on their towers. A phone can only talk to one tower at a time, so the team uses clustering algorithms to design the best placement of cell towers to optimize signal reception for groups, or clusters, of their customers."
   ]
  },
  {
   "cell_type": "markdown",
   "id": "d1584fd2",
   "metadata": {},
   "source": [
    "4. Examine the various forms of machine learning."
   ]
  },
  {
   "cell_type": "markdown",
   "id": "e80c0b30",
   "metadata": {},
   "source": [
    "Supervised Learning Supervised machine learning builds a model that makes predictions based on evidence in the presence of uncertainty. A supervised learning algorithm takes a known set of input data and known responses to the data (output) and trains a model to generate reasonable predictions for the response to new data. Use supervised learning if you have known data for the output you are trying to predict.\n",
    "\n",
    "Supervised learning uses classification and regression techniques to develop machine learning models.\n",
    "\n",
    "Classification techniques predict discrete responses—for example, whether an email is genuine or spam, or whether a tumor is cancerous or benign. Classification models classify input data into categories. Typical applications include medical imaging, speech recognition, and credit scoring.\n",
    "\n",
    "Use classification if your data can be tagged, categorized, or separated into specific groups or classes. For example, applications for hand-writing recognition use classification to recognize letters and numbers. In image processing and computer vision, unsupervised pattern recognition techniques are used for object detection and image segmentation. The most common algorithms for performing classification can be found here.\n",
    "\n",
    "Regression techniques predict continuous responses—for example, hard-to-measure physical quantities such as battery state-of-charge, electricity load on the grid, or prices of financial assets. Typical applications include virtual sensing, electricity load forecasting, and algorithmic trading.\n",
    "\n",
    "Use regression techniques if you are working with a data range or if the nature of your response is a real number, such as temperature or the time until failure for a piece of equipment. The most common algorithms for performing regression can be found here.\n",
    "\n",
    "Unsupervised Learning Unsupervised learning finds hidden patterns or intrinsic structures in data. It is used to draw inferences from datasets consisting of input data without labeled responses.\n",
    "\n",
    "Clustering is the most common unsupervised learning technique. It is used for exploratory data analysis to find hidden patterns or groupings in data. Applications for cluster analysis include gene sequence analysis, market research, and object recognition.\n",
    "\n",
    "For example, if a cell phone company wants to optimize the locations where they build cell phone towers, they can use machine learning to estimate the number of clusters of people relying on their towers. A phone can only talk to one tower at a time, so the team uses clustering algorithms to design the best placement of cell towers to optimize signal reception for groups, or clusters, of their customers."
   ]
  },
  {
   "cell_type": "markdown",
   "id": "d3fbdb5b",
   "metadata": {},
   "source": [
    "5. Can you explain what a well-posed learning problem is? Explain the main characteristics that must be present to identify a learning problem properly."
   ]
  },
  {
   "cell_type": "markdown",
   "id": "7001b6f8",
   "metadata": {},
   "source": [
    "1. Recommending Products after Collecting Previous Data\n",
    "Recommendation systems are one of the most common machine learning use cases in day-to-day life. These systems are used mainly by search engines like Google and Bing and the top eCommerce platforms like Amazon and eBay.\n",
    "\n",
    "The ML integrated systems show a list of recommended products individually for each of their consumers. These suggestions are based on data like previous purchases, wish lists, searches, clicks, inquiries, and browsing history. This data is fed to a comprehensive ML algorithm to strike the user at the right moment and enhance their customer engagement. \n",
    "\n",
    "2. Works as the Best Image and Video Recognition Tool\n",
    "If you have come across features like face recognition, text detection, object detection, and landmark detection, it is because of the integration of deep learning in machine learning. When ML algorithms are trained with innovative deep learning frameworks, they can quickly identify and classify objects and make things easier for a non-native person.\n",
    "\n",
    "MNL can also be used to determine handwritten text by segmenting a piece of writing into smaller images, each containing a single character. \n",
    "\n",
    "3. Your Virtual Assistant\n",
    "A virtual assistant, which is also very common as an AI assistant, is an application program that comprehends natural language voice commands and finishes the tasks for the users like searching the web, booking an appointment, etc. If you have also asked Google Assistant in your android phones to wake you up at 5 AM or asked Siri on your iPhones for directions to the nearest restaurant, then ML has also made your life easier.\n",
    "\n",
    "Some principal personal assistants or smart assistants available in the market are Siri, Google Assistants, Alexa, Echo, and Google mini. These assistants can help you look for information by voice commands or answer your questions by searching your query on the web. \n",
    "\n",
    "4. Ingenious Gaming Using ML\n",
    "With the advancement in technologies, we can improve the graphics of the games and give them a mind at the same time. Lately, if you have been facing difficulties beating the bot in a chess game, then ML might take it over. Today’s games not only simply analyze your moves but are also learning how to play the game better than you by practicing numerous times. Now using your mind against such an intelligent system will surely give you brains and make you smarter at the same time. \n",
    "\n",
    "5. Devising Superior Health Care Methods\n",
    "Even hospitals are utilizing machine learning to cure and treat patients. Thanks to our wearable devices, doctors can get accurate data on our health from anywhere in the world and suggest an aid if they find something helpful. The integration of ML in some essential tools can quickly provide real-time insights and combine with the explosion of computing power. \n",
    "\n",
    "It can help doctors to diagnose critically faster and more accurately. Not only this, AI is assisting in the development of new medications and treatments, predicting harmful reactions at the early stages, and working towards finding a way to lower the costs of healthcare for providers and patients. \n",
    "\n",
    "6. Protecting Environment in the Most Impactful Way\n",
    "Aforesaid, possibilities are endless with ML, and it’s just the beginning. Recently IBM’s Green Horizon Project was acknowledged by experts worldwide as it accurately predicted weather and pollution forecasts. We can use it to save and predict natural forecasts with the expertise of the professionals from Singapore by our side. It is helping city planners to run every kind of scenario just by feeding previous data to their ML algorithm to find ways for minimum environmental impact. \n",
    "\n",
    "7. Real-Time Dynamic Pricing\n",
    "You might have already encountered this scenario while booking a flight ticket to travel on Christmas or booking a cab at peak hours. You will notice a big gap between the regular pricing and pricing at that particular time. So, in these scenarios, the ML and data analysis techniques are helping businesses to get to know more about their users. It answers two critical questions. \n",
    "\n",
    "First, how are customers reacting to surge prices? And second, whether they are looking for customers because of surge pricing? The integration of AI and ML helps the businesses and the users as it helps determine when customers are looking for the best promotional and discounted prices. \n",
    "\n",
    "8. Innovations in the Finance Sector Including Stock Market\n",
    "The functioning of the finance sector is about to change in the upcoming years completely. Thanks to technologies like mobile app development and machine learning, the stock market is at its all-time high. \n",
    "\n",
    "Thanks to AI, deep learning, and machine learning, it has become easy for users to predict the market price by feeding it the previous data. It will allow traders to make better and steady decisions which means less financial loss. Not only this, the machine learning-based anomaly detection models can easily monitor your every transaction request and alert you of any kind of suspicious activity.\n",
    "\n",
    "9. Commute Predictions Using Machine Learning\n",
    "Almost everyone uses GPS services while driving. A programmed GPS helps us in finding the proper navigation to our destination. But it’s the integration of ML and its features like congestion analysis GPS that helps us by telling us the path to avoid traffic and reach our destination on time. It saves the data like our location and velocities of the vehicles on the same path to determine the traffic and let us know whether it would be the right path to follow. \n",
    "\n",
    "10. Online Video OTT Streaming Applications \n",
    "The pioneers of online video streaming services are Netflix and Amazon Prime; both of them combined have killed the traditional way of watching television. But how were they able to keep the customer engaged on their platforms? First by offering impressive content, secondly by getting personalized with the users. \n",
    "\n",
    "They were able to capture mass audiences using machine learning. At the right time, they integrated ML in their program and fed it the user’s data like day and time they watch content, type of content they like to watch, browsing pattern, whether they like to watch trailers before they watch a movie or a show, etc. They are using practical machine learning frameworks to engage their audience by providing quality streaming service right to their homes. "
   ]
  },
  {
   "cell_type": "markdown",
   "id": "e34ead34",
   "metadata": {},
   "source": [
    "6. Is machine learning capable of solving all problems? Give a detailed explanation of your answer."
   ]
  },
  {
   "cell_type": "markdown",
   "id": "4b121246",
   "metadata": {},
   "source": [
    "1. Recommending Products after Collecting Previous Data\n",
    "Recommendation systems are one of the most common machine learning use cases in day-to-day life. These systems are used mainly by search engines like Google and Bing and the top eCommerce platforms like Amazon and eBay.\n",
    "\n",
    "The ML integrated systems show a list of recommended products individually for each of their consumers. These suggestions are based on data like previous purchases, wish lists, searches, clicks, inquiries, and browsing history. This data is fed to a comprehensive ML algorithm to strike the user at the right moment and enhance their customer engagement. \n",
    "\n",
    "2. Works as the Best Image and Video Recognition Tool\n",
    "If you have come across features like face recognition, text detection, object detection, and landmark detection, it is because of the integration of deep learning in machine learning. When ML algorithms are trained with innovative deep learning frameworks, they can quickly identify and classify objects and make things easier for a non-native person.\n",
    "\n",
    "MNL can also be used to determine handwritten text by segmenting a piece of writing into smaller images, each containing a single character. \n",
    "\n",
    "3. Your Virtual Assistant\n",
    "A virtual assistant, which is also very common as an AI assistant, is an application program that comprehends natural language voice commands and finishes the tasks for the users like searching the web, booking an appointment, etc. If you have also asked Google Assistant in your android phones to wake you up at 5 AM or asked Siri on your iPhones for directions to the nearest restaurant, then ML has also made your life easier.\n",
    "\n",
    "Some principal personal assistants or smart assistants available in the market are Siri, Google Assistants, Alexa, Echo, and Google mini. These assistants can help you look for information by voice commands or answer your questions by searching your query on the web. \n",
    "\n",
    "4. Ingenious Gaming Using ML\n",
    "With the advancement in technologies, we can improve the graphics of the games and give them a mind at the same time. Lately, if you have been facing difficulties beating the bot in a chess game, then ML might take it over. Today’s games not only simply analyze your moves but are also learning how to play the game better than you by practicing numerous times. Now using your mind against such an intelligent system will surely give you brains and make you smarter at the same time. \n",
    "\n",
    "5. Devising Superior Health Care Methods\n",
    "Even hospitals are utilizing machine learning to cure and treat patients. Thanks to our wearable devices, doctors can get accurate data on our health from anywhere in the world and suggest an aid if they find something helpful. The integration of ML in some essential tools can quickly provide real-time insights and combine with the explosion of computing power. \n",
    "\n",
    "It can help doctors to diagnose critically faster and more accurately. Not only this, AI is assisting in the development of new medications and treatments, predicting harmful reactions at the early stages, and working towards finding a way to lower the costs of healthcare for providers and patients. \n",
    "\n",
    "6. Protecting Environment in the Most Impactful Way\n",
    "Aforesaid, possibilities are endless with ML, and it’s just the beginning. Recently IBM’s Green Horizon Project was acknowledged by experts worldwide as it accurately predicted weather and pollution forecasts. We can use it to save and predict natural forecasts with the expertise of the professionals from Singapore by our side. It is helping city planners to run every kind of scenario just by feeding previous data to their ML algorithm to find ways for minimum environmental impact. \n",
    "\n",
    "7. Real-Time Dynamic Pricing\n",
    "You might have already encountered this scenario while booking a flight ticket to travel on Christmas or booking a cab at peak hours. You will notice a big gap between the regular pricing and pricing at that particular time. So, in these scenarios, the ML and data analysis techniques are helping businesses to get to know more about their users. It answers two critical questions. \n",
    "\n",
    "First, how are customers reacting to surge prices? And second, whether they are looking for customers because of surge pricing? The integration of AI and ML helps the businesses and the users as it helps determine when customers are looking for the best promotional and discounted prices. \n",
    "\n",
    "8. Innovations in the Finance Sector Including Stock Market\n",
    "The functioning of the finance sector is about to change in the upcoming years completely. Thanks to technologies like mobile app development and machine learning, the stock market is at its all-time high. \n",
    "\n",
    "Thanks to AI, deep learning, and machine learning, it has become easy for users to predict the market price by feeding it the previous data. It will allow traders to make better and steady decisions which means less financial loss. Not only this, the machine learning-based anomaly detection models can easily monitor your every transaction request and alert you of any kind of suspicious activity.\n",
    "\n",
    "9. Commute Predictions Using Machine Learning\n",
    "Almost everyone uses GPS services while driving. A programmed GPS helps us in finding the proper navigation to our destination. But it’s the integration of ML and its features like congestion analysis GPS that helps us by telling us the path to avoid traffic and reach our destination on time. It saves the data like our location and velocities of the vehicles on the same path to determine the traffic and let us know whether it would be the right path to follow. \n",
    "\n",
    "10. Online Video OTT Streaming Applications \n",
    "The pioneers of online video streaming services are Netflix and Amazon Prime; both of them combined have killed the traditional way of watching television. But how were they able to keep the customer engaged on their platforms? First by offering impressive content, secondly by getting personalized with the users. \n",
    "\n",
    "They were able to capture mass audiences using machine learning. At the right time, they integrated ML in their program and fed it the user’s data like day and time they watch content, type of content they like to watch, browsing pattern, whether they like to watch trailers before they watch a movie or a show, etc. They are using practical machine learning frameworks to engage their audience by providing quality streaming service right to their homes. "
   ]
  },
  {
   "cell_type": "markdown",
   "id": "ee6e89d4",
   "metadata": {},
   "source": [
    "7. What are the various methods and technologies for solving machine learning problems? Any two of them should be defined in detail."
   ]
  },
  {
   "cell_type": "markdown",
   "id": "bcc55ed9",
   "metadata": {},
   "source": [
    "1. Scikit-learn\n",
    "Scikit-learn is a free machine learning software for all enthusiasts and is among the best machine learning tools and techniques. People who want to work with a large dataset for different mathematical models, including classification, regression, clustering, etc. Different models are explained easily with examples to understand with clarity. \n",
    "\n",
    "It has a Python programming language library to support various ML codes. This is helpful for data analysis projects with top-notch technical support from NumPy, SciPy, and Matplotlib. Also, as an open-source platform, Sciki-learn is ideal for learning and commercial use.\n",
    "\n",
    "2. PyTorch\n",
    "For distinct projects on ML and NLP (natural language processing), PyTorch is a suitable open-source platform with the latest LUA programming language compatibility. As the name suggests, this framework combines Python language and Torch library. \n",
    "\n",
    "It will be a seamless experience to work on a complex real-time project with various optimization algorithms, even on cloud platforms with a rich development ecosystem. Pytorch is easy to use for hybrid front-end and navigate through tools and extensions.\n",
    "\n",
    "3. TensorFlow\n",
    "This is a familiar name for JavaScript lovers to use as a training language for different ML models. However, it is a bit complicated compared to the previous tools, as the core programming language is JavaScript. But the good news is that any current model can be shifted here, as TensorFlow.js is a model converter.\n",
    "\n",
    "It supports neural network building that makes ML projects much more effective. Also, it is easy to get community support as TensorFlow is a popular tool. \n",
    "\n",
    "4. Weka\n",
    "Weka is a comparatively less used machine learning software in the industry. However, this tool can contribute to data mining with crucial algorithms like classification, regression, clustering, and visualization. These algorithms can be applied directly to a project dataset or called from the user’s Java code.\n",
    "\n",
    "WEKA is a suitable tool for students to learn from free training courses and get practical explanations of various relevant algorithms. Being a Java-based platform, usability increases for this platform as well.\n",
    "\n",
    "5. KNIME\n",
    "The last suggested tool in this list is KNIME, an impressive ML and data mining platform. Unlike the aforementioned tools, the best part is that they can be integrated with all the major programming languages, including C, C++, R, Python, Java, JavaScript, etc.\n",
    "\n",
    "Different usabilities include business intelligence, financial data analysis, and CRM. It is a beginner-friendly tool to install, run, and make small projects. There are step-by-step pipeline features available for people with no programming background.\n",
    "\n",
    "6. Colab\n",
    "Colaboratory or colab is a helping hand for all programmers. It helps you to inscribe and implement Python in your browser. The main advantage of this is it requires nil configurations and can easily access GPUs freely without any hidden charge. Moreover, it allows easy sharing without facing any hindrances. \n",
    "\n",
    "Colab notebooks let you blend executable code, rich text, graphics, HTML, LaTeX, and more in one document. Thus, it is a handy tool for all data scientists, AI researchers, and students.\n",
    "\n",
    "7. Apache Mahout\n",
    "Well, if you are looking for an open-source project or tool to develop scalable machine learning algorithms, then Apache Mahout is the solution. The main purpose of this tool is to help mathematicians, data scientists, and others execute their algorithms. \n",
    "\n",
    "Mahout has multiple advantages, making them large firms like Facebook, yahoo, and many others. As a ready-to-use framework, developers may use Mahout to mine enormous amounts of data.\n",
    "\n",
    "8. Accord.Net\n",
    "The Accord.NET Framework is a fully C#-written .NET machine learning framework with audio and image processing components. It provides a comprehensive platform for creating professional-grade signal processing, statistics, computer vision, and computer audition applications, even for commercial usage. \n",
    "\n",
    "It is free and permitted to use in any commercial application without a license. The framework provides many different probability distributions, kernel functions, hypothesis tests, and support for the most widely used performance evaluation methods.\n",
    "\n",
    "9. Shogan\n",
    "Shogan is a completely free and open-source tool built in a C++ module. It provides various data formats and techniques for machine learning issues. SWIG provides interfaces for Python, R, Ruby, Java, Octave, Lua, and C#. \n",
    "\n",
    "Primarily, Shogan focuses on kernel machines. Moreover, it supports vector machines and helps in the classification and regression of problems. In a nutshell, we can conclude that it ensures the effective implementation of all types of ML algorithms. It also highlights the fundamental algorithms to make them clear and understandable.\n",
    "\n",
    "10. Keras.io\n",
    "Keras is a human-centric API. Keras is mainly used for lowering high cognitive loads. This, in turn, helps in providing standard simple APIs and proposes clear and responsive error signals.\n",
    "\n",
    "The main advantage of this tool is that it can be deployed anywhere. Keras models may be exported to TF Lite for use on Android, iOS, and other embedded devices and JavaScript for direct browser execution. Additionally, serving Keras models using a web API is simple. "
   ]
  },
  {
   "cell_type": "markdown",
   "id": "25f62870",
   "metadata": {},
   "source": [
    "8. Can you explain the various forms of supervised learning? Explain each one with an example application."
   ]
  },
  {
   "cell_type": "markdown",
   "id": "dfb44656",
   "metadata": {},
   "source": [
    "Supervised Learning Supervised machine learning builds a model that makes predictions based on evidence in the presence of uncertainty. A supervised learning algorithm takes a known set of input data and known responses to the data (output) and trains a model to generate reasonable predictions for the response to new data. Use supervised learning if you have known data for the output you are trying to predict.\n",
    "\n",
    "Supervised learning uses classification and regression techniques to develop machine learning models.\n",
    "\n",
    "Classification techniques predict discrete responses—for example, whether an email is genuine or spam, or whether a tumor is cancerous or benign. Classification models classify input data into categories. Typical applications include medical imaging, speech recognition, and credit scoring.\n",
    "\n",
    "Use classification if your data can be tagged, categorized, or separated into specific groups or classes. For example, applications for hand-writing recognition use classification to recognize letters and numbers. In image processing and computer vision, unsupervised pattern recognition techniques are used for object detection and image segmentation. The most common algorithms for performing classification can be found here.\n",
    "\n",
    "Regression techniques predict continuous responses—for example, hard-to-measure physical quantities such as battery state-of-charge, electricity load on the grid, or prices of financial assets. Typical applications include virtual sensing, electricity load forecasting, and algorithmic trading.\n",
    "\n",
    "Use regression techniques if you are working with a data range or if the nature of your response is a real number, such as temperature or the time until failure for a piece of equipment. The most common algorithms for performing regression can be found here.\n",
    "\n",
    "Unsupervised Learning Unsupervised learning finds hidden patterns or intrinsic structures in data. It is used to draw inferences from datasets consisting of input data without labeled responses.\n",
    "\n",
    "Clustering is the most common unsupervised learning technique. It is used for exploratory data analysis to find hidden patterns or groupings in data. Applications for cluster analysis include gene sequence analysis, market research, and object recognition.\n",
    "\n",
    "For example, if a cell phone company wants to optimize the locations where they build cell phone towers, they can use machine learning to estimate the number of clusters of people relying on their towers. A phone can only talk to one tower at a time, so the team uses clustering algorithms to design the best placement of cell towers to optimize signal reception for groups, or clusters, of their customers."
   ]
  },
  {
   "cell_type": "markdown",
   "id": "27ecd5b7",
   "metadata": {},
   "source": [
    "9. What is the difference between supervised and unsupervised learning? With a sample application in each region, explain the differences."
   ]
  },
  {
   "cell_type": "markdown",
   "id": "cd757e90",
   "metadata": {},
   "source": [
    "Supervised Learning Supervised machine learning builds a model that makes predictions based on evidence in the presence of uncertainty. A supervised learning algorithm takes a known set of input data and known responses to the data (output) and trains a model to generate reasonable predictions for the response to new data. Use supervised learning if you have known data for the output you are trying to predict.\n",
    "\n",
    "Supervised learning uses classification and regression techniques to develop machine learning models.\n",
    "\n",
    "Classification techniques predict discrete responses—for example, whether an email is genuine or spam, or whether a tumor is cancerous or benign. Classification models classify input data into categories. Typical applications include medical imaging, speech recognition, and credit scoring.\n",
    "\n",
    "Use classification if your data can be tagged, categorized, or separated into specific groups or classes. For example, applications for hand-writing recognition use classification to recognize letters and numbers. In image processing and computer vision, unsupervised pattern recognition techniques are used for object detection and image segmentation. The most common algorithms for performing classification can be found here.\n",
    "\n",
    "Regression techniques predict continuous responses—for example, hard-to-measure physical quantities such as battery state-of-charge, electricity load on the grid, or prices of financial assets. Typical applications include virtual sensing, electricity load forecasting, and algorithmic trading.\n",
    "\n",
    "Use regression techniques if you are working with a data range or if the nature of your response is a real number, such as temperature or the time until failure for a piece of equipment. The most common algorithms for performing regression can be found here.\n",
    "\n",
    "Unsupervised Learning Unsupervised learning finds hidden patterns or intrinsic structures in data. It is used to draw inferences from datasets consisting of input data without labeled responses.\n",
    "\n",
    "Clustering is the most common unsupervised learning technique. It is used for exploratory data analysis to find hidden patterns or groupings in data. Applications for cluster analysis include gene sequence analysis, market research, and object recognition.\n",
    "\n",
    "For example, if a cell phone company wants to optimize the locations where they build cell phone towers, they can use machine learning to estimate the number of clusters of people relying on their towers. A phone can only talk to one tower at a time, so the team uses clustering algorithms to design the best placement of cell towers to optimize signal reception for groups, or clusters, of their customers."
   ]
  },
  {
   "cell_type": "markdown",
   "id": "e295f0f5",
   "metadata": {},
   "source": [
    "\n",
    "10. Describe the machine learning process in depth.\n",
    "\n",
    "a. Make brief notes on any two of the following:\n",
    "\n",
    "MATLAB is one of the most widely used programming languages.\n",
    "\n",
    "        ii. Deep learning applications in healthcare\n",
    "\n",
    "        iii. Study of the market basket\n",
    "\n",
    "         iv. Linear regression (simple)\n",
    "\n"
   ]
  },
  {
   "cell_type": "markdown",
   "id": "bf8e1c31",
   "metadata": {},
   "source": [
    "How does Market Basket Analysis Work?\n",
    "Market Basket Analysis is modelled on Association rule mining, i.e., the IF {}, THEN {} construct. For example, IF a customer buys bread, THEN he is likely to buy butter as well.\n",
    "\n",
    "Association rules are usually represented as: {Bread} -> {Butter}\n",
    "\n",
    "Some terminologies to familiarize yourself with Market Basket Analysis are:\n",
    "\n",
    "Antecedent:Items or 'itemsets' found within the data are antecedents. In simpler words, it's the IF component, written on the left-hand side. In the above example, bread is the antecedent.\n",
    "Consequent:A consequent is an item or set of items found in combination with the antecedent. It's the THEN component, written on the right-hand side. In the above example, butter is the consequent.\n",
    "\n",
    "The Apriori algorithm has been in our minds since 1994 and it helps us find frequent item sets in a dataset for boolean association rules. Name of the algorithm is Apriori because it uses prior knowledge of frequent item set properties.\n",
    "\n",
    "In this algorithm, as mentioned above, the dataset must include products that are frequently bought. The data we need to apply this algorithm includes the following columns:\n",
    "\n",
    "Transaction ID (Basket ID)\n",
    "Product SKU (Product ID)\n",
    "Product Category\n",
    "Quantity\n",
    "After we obtain the necessary data, the magic starts.\n",
    "\n",
    "This algorithm can be written and applied by R Studio, Python etc.\n",
    "\n",
    "Since our data is breakdowned and thus has duplicate transaction ID’s, first we need to group the data by transaction ID and learn every distinct product that has been sold (obviously added to basket before the payment step) in that specific transaction\n",
    "\n",
    "imple Linear Regression\n",
    "Simple linear regression is useful for finding relationship between two continuous variables. One is predictor or independent variable and other is response or dependent variable. It looks for statistical relationship but not deterministic relationship. Relationship between two variables is said to be deterministic if one variable can be accurately expressed by the other. For example, using temperature in degree Celsius it is possible to accurately predict Fahrenheit. Statistical relationship is not accurate in determining relationship between two variables. For example, relationship between height and weight.\n",
    "\n",
    "The core idea is to obtain a line that best fits the data. The best fit line is the one for which total prediction error (all data points) are as small as possible. Error is the distance between the point to the regression line."
   ]
  },
  {
   "cell_type": "markdown",
   "id": "9b484343",
   "metadata": {},
   "source": [
    "11. Make a comparison between:-\n",
    "\n",
    "         1. Generalization and abstraction\n",
    "\n",
    "          2. Learning that is guided and unsupervised\n",
    "\n",
    "          3. Regression and classification\n"
   ]
  },
  {
   "cell_type": "markdown",
   "id": "e8174bc3",
   "metadata": {},
   "source": [
    "Supervised Learning Supervised machine learning builds a model that makes predictions based on evidence in the presence of uncertainty. A supervised learning algorithm takes a known set of input data and known responses to the data (output) and trains a model to generate reasonable predictions for the response to new data. Use supervised learning if you have known data for the output you are trying to predict.\n",
    "\n",
    "Supervised learning uses classification and regression techniques to develop machine learning models.\n",
    "\n",
    "Classification techniques predict discrete responses—for example, whether an email is genuine or spam, or whether a tumor is cancerous or benign. Classification models classify input data into categories. Typical applications include medical imaging, speech recognition, and credit scoring.\n",
    "\n",
    "Use classification if your data can be tagged, categorized, or separated into specific groups or classes. For example, applications for hand-writing recognition use classification to recognize letters and numbers. In image processing and computer vision, unsupervised pattern recognition techniques are used for object detection and image segmentation. The most common algorithms for performing classification can be found here.\n",
    "\n",
    "Regression techniques predict continuous responses—for example, hard-to-measure physical quantities such as battery state-of-charge, electricity load on the grid, or prices of financial assets. Typical applications include virtual sensing, electricity load forecasting, and algorithmic trading.\n",
    "\n",
    "Use regression techniques if you are working with a data range or if the nature of your response is a real number, such as temperature or the time until failure for a piece of equipment. The most common algorithms for performing regression can be found here.\n",
    "\n",
    "Unsupervised Learning Unsupervised learning finds hidden patterns or intrinsic structures in data. It is used to draw inferences from datasets consisting of input data without labeled responses.\n",
    "\n",
    "Clustering is the most common unsupervised learning technique. It is used for exploratory data analysis to find hidden patterns or groupings in data. Applications for cluster analysis include gene sequence analysis, market research, and object recognition.\n",
    "\n",
    "For example, if a cell phone company wants to optimize the locations where they build cell phone towers, they can use machine learning to estimate the number of clusters of people relying on their towers. A phone can only talk to one tower at a time, so the team uses clustering algorithms to design the best placement of cell towers to optimize signal reception for groups, or clusters, of their customers."
   ]
  },
  {
   "cell_type": "code",
   "execution_count": null,
   "id": "4f59342e",
   "metadata": {},
   "outputs": [],
   "source": []
  }
 ],
 "metadata": {
  "kernelspec": {
   "display_name": "Python 3 (ipykernel)",
   "language": "python",
   "name": "python3"
  },
  "language_info": {
   "codemirror_mode": {
    "name": "ipython",
    "version": 3
   },
   "file_extension": ".py",
   "mimetype": "text/x-python",
   "name": "python",
   "nbconvert_exporter": "python",
   "pygments_lexer": "ipython3",
   "version": "3.10.9"
  }
 },
 "nbformat": 4,
 "nbformat_minor": 5
}
