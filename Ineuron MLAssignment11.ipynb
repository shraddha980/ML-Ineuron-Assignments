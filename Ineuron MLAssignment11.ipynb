{
 "cells": [
  {
   "cell_type": "markdown",
   "id": "399bad16",
   "metadata": {},
   "source": [
    "1. What is Poisson distribution? What is the formula?"
   ]
  },
  {
   "cell_type": "markdown",
   "id": "8ed6d781",
   "metadata": {},
   "source": [
    "A Poisson distribution is a discrete probability distribution, meaning that it gives the probability of a discrete (i.e., countable) outcome. For Poisson distributions, the discrete outcome is the number of times an event occurs, represented by k.\n",
    "\n",
    "You can use a Poisson distribution to predict or explain the number of events occurring within a given interval of time or space. “Events” could be anything from disease cases to customer purchases to meteor strikes. The interval can be any specific amount of time or space, such as 10 days or 5 square inches.\n",
    "\n",
    "You can use a Poisson distribution if:\n",
    "\n",
    "Individual events happen at random and independently. That is, the probability of one event doesn’t affect the probability of another event.\n",
    "You know the mean number of events occurring within a given interval of time or space. This number is called λ (lambda), and it is assumed to be constant.\n",
    "When events follow a Poisson distribution, λ is the only thing you need to know to calculate the probability of an event occurring a certain number of times.\n",
    "\n",
    "The formula for the Poisson distribution function is given by: f(x) =(e– λ λx)/x! "
   ]
  },
  {
   "cell_type": "markdown",
   "id": "d7af6e24",
   "metadata": {},
   "source": [
    "2. Define covariance."
   ]
  },
  {
   "cell_type": "markdown",
   "id": "ac938dd0",
   "metadata": {},
   "source": [
    "Covariance measures the total variation of two random variables from their expected values. Using covariance, we can only gauge the direction of the relationship (whether the variables tend to move in tandem or show an inverse relationship)."
   ]
  },
  {
   "cell_type": "markdown",
   "id": "64e94431",
   "metadata": {},
   "source": [
    "3. Define sampling with replacement. "
   ]
  },
  {
   "cell_type": "markdown",
   "id": "7af17c93",
   "metadata": {},
   "source": [
    "Sampling with replacement can be defined as random sampling that allows sampling units to occur more than once. Sampling with replacement consists of\n",
    "\n",
    "A sampling unit (like a glass bead or a row of data) being randomly drawn from a population (like a jar of beads or a dataset).\n",
    "Recording which sampling unit was drawn.\n",
    "Returning the sampling unit to the population.\n",
    "Imagine you have a jar of 12 unique glass beads like in the image above. If you are sampling with replacement from the jar, the chance of randomly selecting any 1 of the glass beads is 1/12. After selecting a bead, return it to the jar so that the probability of selecting any of the 12 beads in future sampling doesn’t change (1/12). This means that if you repeat the process it is entirely possible you could randomly take out the same bead (1/12 chance in this case).\n",
    "\n",
    "This remaining parts of this section go over how sampling with replacement can be done using the Python libraries NumPy and Pandas and will go over related concepts like bootstrapped datasets and how many duplicate samples should you expect when sampling with replacement to create a bootstrapped dataset."
   ]
  },
  {
   "cell_type": "markdown",
   "id": "5ea6fe4b",
   "metadata": {},
   "source": [
    "4. What is sampling without replacement? "
   ]
  },
  {
   "cell_type": "markdown",
   "id": "36daca8f",
   "metadata": {},
   "source": [
    "Sampling without replacement can be defined as random sampling that DOES NOT allow sampling units to occur more than once. Let’s now go over a quick example of how sampling without replacement works.\n",
    "\n",
    "Imagine you have a jar of 12 unique glass beads like in the image above. If you are sampling without replacement from the jar, the chance of randomly selecting any 1 of the glass beads is 1/12. After selecting a bead, it is NOT returned to the jar so that the probability of selecting any of the remaining 11 beads in future sampling is now (1/11). This means that for each additional sample drawn, there are less and less beads in the jar until eventually there are no more beads to sample (after 12 samplings)."
   ]
  },
  {
   "cell_type": "markdown",
   "id": "068f32ee",
   "metadata": {},
   "source": [
    "5. What is hypothesis? Give example."
   ]
  },
  {
   "cell_type": "markdown",
   "id": "b3c79416",
   "metadata": {},
   "source": [
    "What is Hypothesis?\n",
    "A hypothesis is an assumption that is made based on some evidence. This is the initial point of any investigation that translates the research questions into predictions. It includes components like variables, population and the relation between the variables. A research hypothesis is a hypothesis that is used to test the relationship between two or more variables.\n",
    "\n",
    "Characteristics of Hypothesis\n",
    "Following are the characteristics of the hypothesis:\n",
    "\n",
    "The hypothesis should be clear and precise to consider it to be reliable.\n",
    "If the hypothesis is a relational hypothesis, then it should be stating the relationship between variables.\n",
    "The hypothesis must be specific and should have scope for conducting more tests.\n",
    "The way of explanation of the hypothesis must be very simple and it should also be understood that the simplicity of the hypothesis is not related to its significance.\n",
    "Sources of Hypothesis\n",
    "Following are the sources of hypothesis:\n",
    "\n",
    "The resemblance between the phenomenon.\n",
    "Observations from past studies, present-day experiences and from the competitors.\n",
    "Scientific theories.\n",
    "General patterns that influence the thinking process of people.\n",
    "Types of Hypothesis\n",
    "There are six forms of hypothesis and they are:\n",
    "\n",
    "Simple hypothesis\n",
    "Complex hypothesis\n",
    "Directional hypothesis\n",
    "Non-directional hypothesis\n",
    "Null hypothesis\n",
    "Associative and casual hypothesis\n",
    "Simple Hypothesis\n",
    "It shows a relationship between one dependent variable and a single independent variable. For example – If you eat more vegetables, you will lose weight faster. Here, eating more vegetables is an independent variable, while losing weight is the dependent variable.\n",
    "\n",
    "Complex Hypothesis\n",
    "It shows the relationship between two or more dependent variables and two or more independent variables. Eating more vegetables and fruits leads to weight loss, glowing skin, and reduces the risk of many diseases such as heart disease.\n",
    "\n",
    "Directional Hypothesis\n",
    "It shows how a researcher is intellectual and committed to a particular outcome. The relationship between the variables can also predict its nature. For example- children aged four years eating proper food over a five-year period are having higher IQ levels than children not having a proper meal. This shows the effect and direction of the effect.\n",
    "\n",
    "Non-directional Hypothesis\n",
    "It is used when there is no theory involved. It is a statement that a relationship exists between two variables, without predicting the exact nature (direction) of the relationship.\n",
    "\n",
    "Null Hypothesis\n",
    "It provides a statement which is contrary to the hypothesis. It’s a negative statement, and there is no relationship between independent and dependent variables. The symbol is denoted by “HO”.\n",
    "\n",
    "Associative and Causal Hypothesis\n",
    "Associative hypothesis occurs when there is a change in one variable resulting in a change in the other variable. Whereas, the causal hypothesis proposes a cause and effect interaction between two or more variables.\n",
    "\n",
    "Examples of Hypothesis\n",
    "Following are the examples of hypotheses based on their types:\n",
    "\n",
    "Consumption of sugary drinks every day leads to obesity is an example of a simple hypothesis.\n",
    "All lilies have the same number of petals is an example of a null hypothesis.\n",
    "If a person gets 7 hours of sleep, then he will feel less fatigue than if he sleeps less. It is an example of a directional hypothesis.\n",
    "Functions of Hypothesis\n",
    "Following are the functions performed by the hypothesis:\n",
    "\n",
    "Hypothesis helps in making an observation and experiments possible.\n",
    "It becomes the start point for the investigation.\n",
    "Hypothesis helps in verifying the observations.\n",
    "It helps in directing the inquiries in the right direction."
   ]
  },
  {
   "cell_type": "code",
   "execution_count": null,
   "id": "a332fdb5",
   "metadata": {},
   "outputs": [],
   "source": []
  }
 ],
 "metadata": {
  "kernelspec": {
   "display_name": "Python 3 (ipykernel)",
   "language": "python",
   "name": "python3"
  },
  "language_info": {
   "codemirror_mode": {
    "name": "ipython",
    "version": 3
   },
   "file_extension": ".py",
   "mimetype": "text/x-python",
   "name": "python",
   "nbconvert_exporter": "python",
   "pygments_lexer": "ipython3",
   "version": "3.10.9"
  }
 },
 "nbformat": 4,
 "nbformat_minor": 5
}
