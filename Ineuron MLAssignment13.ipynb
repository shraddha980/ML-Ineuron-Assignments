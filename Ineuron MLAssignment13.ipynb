{
 "cells": [
  {
   "cell_type": "markdown",
   "id": "adffaeca",
   "metadata": {},
   "source": [
    "1. Write any two weaknesses of Bayes classifier."
   ]
  },
  {
   "cell_type": "markdown",
   "id": "2952e703",
   "metadata": {},
   "source": [
    "Conditional Independence Assumption does not always hold. In most situations, the feature show some form of dependency.\n",
    "Zero probability problem : When we encounter words in the test data for a particular class that are not present in the training data, we might end up with zero class probabilities. See the example below for more details: P(bumper | Ham) is 0 since bumper does not occuer in any ham (non-spam) documents in the training data.\n",
    "\n",
    "Naive Bayes assumes that all predictors (or features) are independent, rarely happening in real life. This limits the applicability of this algorithm in real-world use cases.\n",
    "This algorithm faces the ‘zero-frequency problem’ where it assigns zero probability to a categorical variable whose category in the test data set wasn’t available in the training dataset. It would be best if you used a smoothing technique to overcome this issue.\n",
    "Its estimations can be wrong in some cases, so you shouldn’t take its probability outputs very seriously. "
   ]
  },
  {
   "cell_type": "markdown",
   "id": "eacf5d03",
   "metadata": {},
   "source": [
    "2. Explain how Naïve Bayes classifier is used for\n",
    "> Text classification,\n",
    "> Spam filtering,"
   ]
  },
  {
   "cell_type": "markdown",
   "id": "7f39eb7c",
   "metadata": {},
   "source": [
    "In sentiment analysis, Naive Bayes is utilized to classify text sentiment. The approach assumes features (words) are independent given the sentiment. It calculates the probability of a text belonging to each sentiment class based on word frequencies. Then, it assigns the class with the highest probability.\n",
    "\n",
    "Naive Bayes classification is a simple probability algorithm based on the fact, that all features of the model are independent. In the context of the spam filter, we suppose, that every word in the message is independent of all other words and we count them with the ignorance of the context."
   ]
  },
  {
   "cell_type": "markdown",
   "id": "0e3f447b",
   "metadata": {},
   "source": [
    "3. In the hospital sector, offer an example of supervised learning"
   ]
  },
  {
   "cell_type": "markdown",
   "id": "f38635db",
   "metadata": {},
   "source": [
    "Machine learning in healthcare can be used by medical professionals to develop better diagnostic tools to analyze medical images. For example, a machine learning algorithm can be used in medical imaging (such as X-rays or MRI scans) using pattern recognition to look for patterns that indicate a particular disease\n",
    "\n",
    "As technology expands, machine learning provides an exciting opportunity in health care to improve the accuracy of diagnoses, personalize health care, and find novel solutions to decades-old problems. You can use machine learning to program computers to make connections and predictions, and discover critical insights from large amounts of data that health care providers may otherwise miss — all of this can add up to a direct impact on the health of your community.\n",
    "\n",
    "The goal of machine learning is to improve patient outcomes and produce medical insights that were previously unavailable. It provides a way to validate doctors’ reasoning and decisions through predictive algorithms. For example, suppose a doctor prescribes a specific medication for a patient. In that case, machine learning can validate this treatment plan by finding a patient with a similar medical history who benefitted from the same treatment."
   ]
  },
  {
   "cell_type": "markdown",
   "id": "278eb02a",
   "metadata": {},
   "source": [
    "4. Provide an example of multiple linear regression."
   ]
  },
  {
   "cell_type": "markdown",
   "id": "d976c674",
   "metadata": {},
   "source": [
    "Regression models are used to describe relationships between variables by fitting a line to the observed data. Regression allows you to estimate how a dependent variable changes as the independent variable(s) change.\n",
    "\n",
    "Multiple linear regression is used to estimate the relationship between two or more independent variables and one dependent variable. You can use multiple linear regression when you want to know:\n",
    "\n",
    "How strong the relationship is between two or more independent variables and one dependent variable (e.g. how rainfall, temperature, and amount of fertilizer added affect crop growth).\n",
    "The value of the dependent variable at a certain value of the independent variables (e.g. the expected yield of a crop at certain levels of rainfall, temperature, and fertilizer addition).\n",
    "\n",
    "Assumptions of multiple linear regression\n",
    "Multiple linear regression makes all of the same assumptions as simple linear regression:\n",
    "\n",
    "Homogeneity of variance (homoscedasticity): the size of the error in our prediction doesn’t change significantly across the values of the independent variable.\n",
    "\n",
    "Independence of observations: the observations in the dataset were collected using statistically valid sampling methods, and there are no hidden relationships among variables.\n",
    "\n",
    "In multiple linear regression, it is possible that some of the independent variables are actually correlated with one another, so it is important to check these before developing the regression model. If two independent variables are too highly correlated (r2 > ~0.6), then only one of them should be used in the regression model.\n",
    "\n",
    "Normality: The data follows a normal distribution.\n",
    "\n",
    "Linearity: the line of best fit through the data points is a straight line, rather than a curve or some sort of grouping factor.\n"
   ]
  },
  {
   "cell_type": "markdown",
   "id": "b2fb3544",
   "metadata": {},
   "source": [
    "5. Describe the regression analysis assumptions and the BLUE principle."
   ]
  },
  {
   "cell_type": "markdown",
   "id": "56ba42a9",
   "metadata": {},
   "source": [
    "1. Linear Relationship: The relationship between the independent and dependent variables should be linear. This can be tested using scatter plots.\n",
    "\n",
    "2. Multivariate Normal: All the variables together should be multivariate normal. For all the variables to be multivariate normal each variable separately has to be univariate normal means a bell shaped curve.And any subset of variables should also be multivariate normal. This can be tested by plotting a histogram.\n",
    "\n",
    "3. No Multicollinearity: There is little or no multicollinearity in the data. Multicollinearity happens when the independent variables are highly correlated with each other. Multicollinearity can be tested with correlation matrix.\n",
    "\n",
    "4. No Autocorrelation: There is little or no autocorrelation in the data. Autocorrelation means a single column data values are related to each other. In other words f(x+1)is dependent on value of f(x). Autocorrelation can be tested with scatter plots.\n",
    "Homoscedasticity: Homoscedasticity is there. This means “same variance” .In other words residuals are equal across regression line. Homoscedasticity can also be tested using scatter plot.\n",
    "\n",
    "The Gauss-Markov theorem states that satisfying the OLS assumptions keeps the sampling distribution as tight as possible for unbiased estimates. The Best in BLUE refers to the sampling distribution with the minimum variance. That's the tightest possible distribution of all unbiased linear estimation methods"
   ]
  },
  {
   "cell_type": "markdown",
   "id": "ab9dc4e7",
   "metadata": {},
   "source": []
  }
 ],
 "metadata": {
  "kernelspec": {
   "display_name": "Python 3 (ipykernel)",
   "language": "python",
   "name": "python3"
  },
  "language_info": {
   "codemirror_mode": {
    "name": "ipython",
    "version": 3
   },
   "file_extension": ".py",
   "mimetype": "text/x-python",
   "name": "python",
   "nbconvert_exporter": "python",
   "pygments_lexer": "ipython3",
   "version": "3.10.9"
  }
 },
 "nbformat": 4,
 "nbformat_minor": 5
}
