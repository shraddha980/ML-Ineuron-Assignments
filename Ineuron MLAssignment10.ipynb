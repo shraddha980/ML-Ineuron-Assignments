{
 "cells": [
  {
   "cell_type": "markdown",
   "id": "4d5849b9",
   "metadata": {},
   "source": [
    "1.\tDefine the Bayesian interpretation of probability."
   ]
  },
  {
   "cell_type": "markdown",
   "id": "511d7b41",
   "metadata": {},
   "source": [
    "Bayes' Theorem states that the conditional probability of an event, based on the occurrence of another event, is equal to the likelihood of the second event given the first event multiplied by the probability of the first event."
   ]
  },
  {
   "cell_type": "markdown",
   "id": "772ef960",
   "metadata": {},
   "source": [
    "2.\tDefine probability of a union of two events with equation."
   ]
  },
  {
   "cell_type": "markdown",
   "id": "6ff9669c",
   "metadata": {},
   "source": [
    "If two events A and B are not disjoint, then the probability of their union (the event that A or B occurs) is equal to the sum of their probabilities minus the sum of their intersection. P(A) + P(B) - P(A and B)"
   ]
  },
  {
   "cell_type": "markdown",
   "id": "72065682",
   "metadata": {},
   "source": [
    "3.\tWhat is joint probability? What is its formula?"
   ]
  },
  {
   "cell_type": "markdown",
   "id": "6d3c5d64",
   "metadata": {},
   "source": [
    "Joint probability is the product of the individual probabilities of independent events. Mathematically, P(A and B) = P(A) x P(B). The probability of A times the probability of B equals the joint probability of A and B happening at the same time."
   ]
  },
  {
   "cell_type": "markdown",
   "id": "0f5d94a4",
   "metadata": {},
   "source": [
    "4.\tWhat is chain rule of probability?"
   ]
  },
  {
   "cell_type": "markdown",
   "id": "18610be1",
   "metadata": {},
   "source": [
    "In probability theory, the chain rule (also called the general product rule) describes how to calculate the probability of the intersection of, not necessarily independent, events or the joint distribution of random variables respectively, using conditional probabilities."
   ]
  },
  {
   "cell_type": "markdown",
   "id": "762480e5",
   "metadata": {},
   "source": [
    "5. What is binomial distribution? What is the formula"
   ]
  },
  {
   "cell_type": "markdown",
   "id": "619ec303",
   "metadata": {},
   "source": [
    "Binomial distribution is calculated by multiplying the probability of success raised to the power of the number of successes and the probability of failure raised to the power of the difference between the number of successes and the number of trials."
   ]
  },
  {
   "cell_type": "code",
   "execution_count": null,
   "id": "08559d14",
   "metadata": {},
   "outputs": [],
   "source": []
  }
 ],
 "metadata": {
  "kernelspec": {
   "display_name": "Python 3 (ipykernel)",
   "language": "python",
   "name": "python3"
  },
  "language_info": {
   "codemirror_mode": {
    "name": "ipython",
    "version": 3
   },
   "file_extension": ".py",
   "mimetype": "text/x-python",
   "name": "python",
   "nbconvert_exporter": "python",
   "pygments_lexer": "ipython3",
   "version": "3.10.9"
  }
 },
 "nbformat": 4,
 "nbformat_minor": 5
}
